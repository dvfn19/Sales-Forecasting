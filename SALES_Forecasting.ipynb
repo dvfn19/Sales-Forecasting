{
 "cells": [
  {
   "cell_type": "code",
   "execution_count": 2,
   "id": "5acb0148-9abb-443d-b425-6b94c3212366",
   "metadata": {},
   "outputs": [],
   "source": [
    "import pandas as pd"
   ]
  },
  {
   "cell_type": "code",
   "execution_count": 4,
   "id": "5627def0-4fd1-4390-855e-f61b4411f4fe",
   "metadata": {},
   "outputs": [],
   "source": [
    "df = pd.read_csv(r'/Users/divyanshuvashishth/Downloads/sales_prediction.csv')"
   ]
  },
  {
   "cell_type": "code",
   "execution_count": 6,
   "id": "16402a97-e9e0-4b6e-8339-9d58ceabbf64",
   "metadata": {},
   "outputs": [
    {
     "data": {
      "text/html": [
       "<div>\n",
       "<style scoped>\n",
       "    .dataframe tbody tr th:only-of-type {\n",
       "        vertical-align: middle;\n",
       "    }\n",
       "\n",
       "    .dataframe tbody tr th {\n",
       "        vertical-align: top;\n",
       "    }\n",
       "\n",
       "    .dataframe thead th {\n",
       "        text-align: right;\n",
       "    }\n",
       "</style>\n",
       "<table border=\"1\" class=\"dataframe\">\n",
       "  <thead>\n",
       "    <tr style=\"text-align: right;\">\n",
       "      <th></th>\n",
       "      <th>Item_Identifier</th>\n",
       "      <th>Item_Weight</th>\n",
       "      <th>Item_Fat_Content</th>\n",
       "      <th>Item_Visibility</th>\n",
       "      <th>Item_Type</th>\n",
       "      <th>Item_MRP</th>\n",
       "      <th>Outlet_Identifier</th>\n",
       "      <th>Outlet_Establishment_Year</th>\n",
       "      <th>Outlet_Size</th>\n",
       "      <th>Outlet_Location_Type</th>\n",
       "      <th>Outlet_Type</th>\n",
       "      <th>Item_Outlet_Sales</th>\n",
       "    </tr>\n",
       "  </thead>\n",
       "  <tbody>\n",
       "    <tr>\n",
       "      <th>0</th>\n",
       "      <td>FDA15</td>\n",
       "      <td>9.30</td>\n",
       "      <td>Low Fat</td>\n",
       "      <td>0.016047</td>\n",
       "      <td>Dairy</td>\n",
       "      <td>249.8092</td>\n",
       "      <td>OUT049</td>\n",
       "      <td>1999</td>\n",
       "      <td>Medium</td>\n",
       "      <td>Tier 1</td>\n",
       "      <td>Supermarket Type1</td>\n",
       "      <td>3735.1380</td>\n",
       "    </tr>\n",
       "    <tr>\n",
       "      <th>1</th>\n",
       "      <td>DRC01</td>\n",
       "      <td>5.92</td>\n",
       "      <td>Regular</td>\n",
       "      <td>0.019278</td>\n",
       "      <td>Soft Drinks</td>\n",
       "      <td>48.2692</td>\n",
       "      <td>OUT018</td>\n",
       "      <td>2009</td>\n",
       "      <td>Medium</td>\n",
       "      <td>Tier 3</td>\n",
       "      <td>Supermarket Type2</td>\n",
       "      <td>443.4228</td>\n",
       "    </tr>\n",
       "    <tr>\n",
       "      <th>2</th>\n",
       "      <td>FDN15</td>\n",
       "      <td>17.50</td>\n",
       "      <td>Low Fat</td>\n",
       "      <td>0.016760</td>\n",
       "      <td>Meat</td>\n",
       "      <td>141.6180</td>\n",
       "      <td>OUT049</td>\n",
       "      <td>1999</td>\n",
       "      <td>Medium</td>\n",
       "      <td>Tier 1</td>\n",
       "      <td>Supermarket Type1</td>\n",
       "      <td>2097.2700</td>\n",
       "    </tr>\n",
       "    <tr>\n",
       "      <th>3</th>\n",
       "      <td>FDX07</td>\n",
       "      <td>19.20</td>\n",
       "      <td>Regular</td>\n",
       "      <td>0.000000</td>\n",
       "      <td>Fruits and Vegetables</td>\n",
       "      <td>182.0950</td>\n",
       "      <td>OUT010</td>\n",
       "      <td>1998</td>\n",
       "      <td>NaN</td>\n",
       "      <td>Tier 3</td>\n",
       "      <td>Grocery Store</td>\n",
       "      <td>732.3800</td>\n",
       "    </tr>\n",
       "    <tr>\n",
       "      <th>4</th>\n",
       "      <td>NCD19</td>\n",
       "      <td>8.93</td>\n",
       "      <td>Low Fat</td>\n",
       "      <td>0.000000</td>\n",
       "      <td>Household</td>\n",
       "      <td>53.8614</td>\n",
       "      <td>OUT013</td>\n",
       "      <td>1987</td>\n",
       "      <td>High</td>\n",
       "      <td>Tier 3</td>\n",
       "      <td>Supermarket Type1</td>\n",
       "      <td>994.7052</td>\n",
       "    </tr>\n",
       "  </tbody>\n",
       "</table>\n",
       "</div>"
      ],
      "text/plain": [
       "  Item_Identifier  Item_Weight Item_Fat_Content  Item_Visibility  \\\n",
       "0           FDA15         9.30          Low Fat         0.016047   \n",
       "1           DRC01         5.92          Regular         0.019278   \n",
       "2           FDN15        17.50          Low Fat         0.016760   \n",
       "3           FDX07        19.20          Regular         0.000000   \n",
       "4           NCD19         8.93          Low Fat         0.000000   \n",
       "\n",
       "               Item_Type  Item_MRP Outlet_Identifier  \\\n",
       "0                  Dairy  249.8092            OUT049   \n",
       "1            Soft Drinks   48.2692            OUT018   \n",
       "2                   Meat  141.6180            OUT049   \n",
       "3  Fruits and Vegetables  182.0950            OUT010   \n",
       "4              Household   53.8614            OUT013   \n",
       "\n",
       "   Outlet_Establishment_Year Outlet_Size Outlet_Location_Type  \\\n",
       "0                       1999      Medium               Tier 1   \n",
       "1                       2009      Medium               Tier 3   \n",
       "2                       1999      Medium               Tier 1   \n",
       "3                       1998         NaN               Tier 3   \n",
       "4                       1987        High               Tier 3   \n",
       "\n",
       "         Outlet_Type  Item_Outlet_Sales  \n",
       "0  Supermarket Type1          3735.1380  \n",
       "1  Supermarket Type2           443.4228  \n",
       "2  Supermarket Type1          2097.2700  \n",
       "3      Grocery Store           732.3800  \n",
       "4  Supermarket Type1           994.7052  "
      ]
     },
     "execution_count": 6,
     "metadata": {},
     "output_type": "execute_result"
    }
   ],
   "source": [
    "df.head()"
   ]
  },
  {
   "cell_type": "markdown",
   "id": "d6fbc57d-826c-4ab6-b379-9fdfb55e0c77",
   "metadata": {},
   "source": [
    "Prep. Training and Testing datasets  \n",
    "70% for training and 30% for testing\n"
   ]
  },
  {
   "cell_type": "code",
   "execution_count": 9,
   "id": "61f31fdf-7b43-4e49-b2fa-dcc23b32bc79",
   "metadata": {},
   "outputs": [],
   "source": [
    "x = df.drop(columns=['Item_Outlet_Sales'])\n",
    "y = df['Item_Outlet_Sales']\n",
    "\n",
    "SEED=43"
   ]
  },
  {
   "cell_type": "code",
   "execution_count": 11,
   "id": "12295aac-38a9-448a-a8c1-fac212873cf8",
   "metadata": {},
   "outputs": [
    {
     "data": {
      "text/plain": [
       "((5966, 11), (2557, 11))"
      ]
     },
     "execution_count": 11,
     "metadata": {},
     "output_type": "execute_result"
    }
   ],
   "source": [
    "from sklearn.model_selection import train_test_split\n",
    "x_train, x_test, y_train, y_test= train_test_split( x, y, test_size = 0.3, random_state=SEED )\n",
    "\n",
    "x_train.shape, x_test.shape"
   ]
  },
  {
   "cell_type": "code",
   "execution_count": 12,
   "id": "5fa64a53-5d45-4019-9259-be80a34ff8c0",
   "metadata": {},
   "outputs": [
    {
     "data": {
      "text/html": [
       "<div>\n",
       "<style scoped>\n",
       "    .dataframe tbody tr th:only-of-type {\n",
       "        vertical-align: middle;\n",
       "    }\n",
       "\n",
       "    .dataframe tbody tr th {\n",
       "        vertical-align: top;\n",
       "    }\n",
       "\n",
       "    .dataframe thead th {\n",
       "        text-align: right;\n",
       "    }\n",
       "</style>\n",
       "<table border=\"1\" class=\"dataframe\">\n",
       "  <thead>\n",
       "    <tr style=\"text-align: right;\">\n",
       "      <th></th>\n",
       "      <th>Item_Identifier</th>\n",
       "      <th>Item_Weight</th>\n",
       "      <th>Item_Fat_Content</th>\n",
       "      <th>Item_Visibility</th>\n",
       "      <th>Item_Type</th>\n",
       "      <th>Item_MRP</th>\n",
       "      <th>Outlet_Identifier</th>\n",
       "      <th>Outlet_Establishment_Year</th>\n",
       "      <th>Outlet_Size</th>\n",
       "      <th>Outlet_Location_Type</th>\n",
       "      <th>Outlet_Type</th>\n",
       "    </tr>\n",
       "  </thead>\n",
       "  <tbody>\n",
       "    <tr>\n",
       "      <th>3058</th>\n",
       "      <td>NCM30</td>\n",
       "      <td>NaN</td>\n",
       "      <td>Low Fat</td>\n",
       "      <td>0.066970</td>\n",
       "      <td>Household</td>\n",
       "      <td>39.2796</td>\n",
       "      <td>OUT027</td>\n",
       "      <td>1985</td>\n",
       "      <td>Medium</td>\n",
       "      <td>Tier 3</td>\n",
       "      <td>Supermarket Type3</td>\n",
       "    </tr>\n",
       "    <tr>\n",
       "      <th>2485</th>\n",
       "      <td>FDL22</td>\n",
       "      <td>16.85</td>\n",
       "      <td>low fat</td>\n",
       "      <td>0.036596</td>\n",
       "      <td>Snack Foods</td>\n",
       "      <td>90.6488</td>\n",
       "      <td>OUT017</td>\n",
       "      <td>2007</td>\n",
       "      <td>NaN</td>\n",
       "      <td>Tier 2</td>\n",
       "      <td>Supermarket Type1</td>\n",
       "    </tr>\n",
       "    <tr>\n",
       "      <th>4100</th>\n",
       "      <td>FDV39</td>\n",
       "      <td>11.30</td>\n",
       "      <td>Low Fat</td>\n",
       "      <td>0.007274</td>\n",
       "      <td>Meat</td>\n",
       "      <td>196.6426</td>\n",
       "      <td>OUT013</td>\n",
       "      <td>1987</td>\n",
       "      <td>High</td>\n",
       "      <td>Tier 3</td>\n",
       "      <td>Supermarket Type1</td>\n",
       "    </tr>\n",
       "  </tbody>\n",
       "</table>\n",
       "</div>"
      ],
      "text/plain": [
       "     Item_Identifier  Item_Weight Item_Fat_Content  Item_Visibility  \\\n",
       "3058           NCM30          NaN          Low Fat         0.066970   \n",
       "2485           FDL22        16.85          low fat         0.036596   \n",
       "4100           FDV39        11.30          Low Fat         0.007274   \n",
       "\n",
       "        Item_Type  Item_MRP Outlet_Identifier  Outlet_Establishment_Year  \\\n",
       "3058    Household   39.2796            OUT027                       1985   \n",
       "2485  Snack Foods   90.6488            OUT017                       2007   \n",
       "4100         Meat  196.6426            OUT013                       1987   \n",
       "\n",
       "     Outlet_Size Outlet_Location_Type        Outlet_Type  \n",
       "3058      Medium               Tier 3  Supermarket Type3  \n",
       "2485         NaN               Tier 2  Supermarket Type1  \n",
       "4100        High               Tier 3  Supermarket Type1  "
      ]
     },
     "execution_count": 12,
     "metadata": {},
     "output_type": "execute_result"
    }
   ],
   "source": [
    "x_train.head(3)"
   ]
  },
  {
   "cell_type": "code",
   "execution_count": 13,
   "id": "c2103266-3eea-4f39-80c1-da943e0e5f8b",
   "metadata": {},
   "outputs": [
    {
     "data": {
      "text/plain": [
       "3058     701.7532\n",
       "2485     633.8416\n",
       "4100    5141.3076\n",
       "Name: Item_Outlet_Sales, dtype: float64"
      ]
     },
     "execution_count": 13,
     "metadata": {},
     "output_type": "execute_result"
    }
   ],
   "source": [
    "y_train.head(3)"
   ]
  },
  {
   "cell_type": "code",
   "execution_count": 14,
   "id": "e53d5e26-e687-4c31-a106-383214a55c75",
   "metadata": {},
   "outputs": [],
   "source": [
    "# make copy to do EDA\n",
    "\n",
    "x_train_new = x_train.copy()"
   ]
  },
  {
   "cell_type": "markdown",
   "id": "4258a396-cbec-4ed4-9b44-94129459219d",
   "metadata": {},
   "source": [
    "BASIC EDA"
   ]
  },
  {
   "cell_type": "code",
   "execution_count": 17,
   "id": "d4bee50a-9a2a-43fb-b1bd-7868d647199a",
   "metadata": {
    "scrolled": true
   },
   "outputs": [
    {
     "name": "stdout",
     "output_type": "stream",
     "text": [
      "<class 'pandas.core.frame.DataFrame'>\n",
      "Index: 5966 entries, 3058 to 3392\n",
      "Data columns (total 11 columns):\n",
      " #   Column                     Non-Null Count  Dtype  \n",
      "---  ------                     --------------  -----  \n",
      " 0   Item_Identifier            5966 non-null   object \n",
      " 1   Item_Weight                4929 non-null   float64\n",
      " 2   Item_Fat_Content           5966 non-null   object \n",
      " 3   Item_Visibility            5966 non-null   float64\n",
      " 4   Item_Type                  5966 non-null   object \n",
      " 5   Item_MRP                   5966 non-null   float64\n",
      " 6   Outlet_Identifier          5966 non-null   object \n",
      " 7   Outlet_Establishment_Year  5966 non-null   int64  \n",
      " 8   Outlet_Size                4299 non-null   object \n",
      " 9   Outlet_Location_Type       5966 non-null   object \n",
      " 10  Outlet_Type                5966 non-null   object \n",
      "dtypes: float64(3), int64(1), object(7)\n",
      "memory usage: 559.3+ KB\n"
     ]
    }
   ],
   "source": [
    "x_train_new.info()"
   ]
  },
  {
   "cell_type": "code",
   "execution_count": 21,
   "id": "cf68fa5d-49ff-40cf-bf55-4892b66ca1df",
   "metadata": {
    "scrolled": true
   },
   "outputs": [
    {
     "data": {
      "text/plain": [
       "Item_Identifier                 0\n",
       "Item_Weight                  1037\n",
       "Item_Fat_Content                0\n",
       "Item_Visibility                 0\n",
       "Item_Type                       0\n",
       "Item_MRP                        0\n",
       "Outlet_Identifier               0\n",
       "Outlet_Establishment_Year       0\n",
       "Outlet_Size                  1667\n",
       "Outlet_Location_Type            0\n",
       "Outlet_Type                     0\n",
       "dtype: int64"
      ]
     },
     "execution_count": 21,
     "metadata": {},
     "output_type": "execute_result"
    }
   ],
   "source": [
    "x_train_new.isnull().sum()"
   ]
  },
  {
   "cell_type": "code",
   "execution_count": 23,
   "id": "d4c89315-00a5-45ce-a064-84c455222e8a",
   "metadata": {},
   "outputs": [
    {
     "data": {
      "text/html": [
       "<div>\n",
       "<style scoped>\n",
       "    .dataframe tbody tr th:only-of-type {\n",
       "        vertical-align: middle;\n",
       "    }\n",
       "\n",
       "    .dataframe tbody tr th {\n",
       "        vertical-align: top;\n",
       "    }\n",
       "\n",
       "    .dataframe thead th {\n",
       "        text-align: right;\n",
       "    }\n",
       "</style>\n",
       "<table border=\"1\" class=\"dataframe\">\n",
       "  <thead>\n",
       "    <tr style=\"text-align: right;\">\n",
       "      <th></th>\n",
       "      <th>Item_Weight</th>\n",
       "      <th>Item_Visibility</th>\n",
       "      <th>Item_MRP</th>\n",
       "      <th>Outlet_Establishment_Year</th>\n",
       "    </tr>\n",
       "  </thead>\n",
       "  <tbody>\n",
       "    <tr>\n",
       "      <th>3058</th>\n",
       "      <td>NaN</td>\n",
       "      <td>0.066970</td>\n",
       "      <td>39.2796</td>\n",
       "      <td>1985</td>\n",
       "    </tr>\n",
       "    <tr>\n",
       "      <th>2485</th>\n",
       "      <td>16.85</td>\n",
       "      <td>0.036596</td>\n",
       "      <td>90.6488</td>\n",
       "      <td>2007</td>\n",
       "    </tr>\n",
       "    <tr>\n",
       "      <th>4100</th>\n",
       "      <td>11.30</td>\n",
       "      <td>0.007274</td>\n",
       "      <td>196.6426</td>\n",
       "      <td>1987</td>\n",
       "    </tr>\n",
       "    <tr>\n",
       "      <th>6487</th>\n",
       "      <td>19.70</td>\n",
       "      <td>0.064909</td>\n",
       "      <td>88.5198</td>\n",
       "      <td>2004</td>\n",
       "    </tr>\n",
       "    <tr>\n",
       "      <th>6585</th>\n",
       "      <td>17.35</td>\n",
       "      <td>0.000000</td>\n",
       "      <td>102.9016</td>\n",
       "      <td>1997</td>\n",
       "    </tr>\n",
       "  </tbody>\n",
       "</table>\n",
       "</div>"
      ],
      "text/plain": [
       "      Item_Weight  Item_Visibility  Item_MRP  Outlet_Establishment_Year\n",
       "3058          NaN         0.066970   39.2796                       1985\n",
       "2485        16.85         0.036596   90.6488                       2007\n",
       "4100        11.30         0.007274  196.6426                       1987\n",
       "6487        19.70         0.064909   88.5198                       2004\n",
       "6585        17.35         0.000000  102.9016                       1997"
      ]
     },
     "execution_count": 23,
     "metadata": {},
     "output_type": "execute_result"
    }
   ],
   "source": [
    "num_data= x_train_new.select_dtypes(exclude=['object'])\n",
    "num_data.head()"
   ]
  },
  {
   "cell_type": "code",
   "execution_count": 24,
   "id": "b16d9852-fe3f-4782-b214-de1d663503c5",
   "metadata": {
    "scrolled": true
   },
   "outputs": [
    {
     "data": {
      "text/html": [
       "<div>\n",
       "<style scoped>\n",
       "    .dataframe tbody tr th:only-of-type {\n",
       "        vertical-align: middle;\n",
       "    }\n",
       "\n",
       "    .dataframe tbody tr th {\n",
       "        vertical-align: top;\n",
       "    }\n",
       "\n",
       "    .dataframe thead th {\n",
       "        text-align: right;\n",
       "    }\n",
       "</style>\n",
       "<table border=\"1\" class=\"dataframe\">\n",
       "  <thead>\n",
       "    <tr style=\"text-align: right;\">\n",
       "      <th></th>\n",
       "      <th>Item_Weight</th>\n",
       "      <th>Item_Visibility</th>\n",
       "      <th>Item_MRP</th>\n",
       "      <th>Outlet_Establishment_Year</th>\n",
       "    </tr>\n",
       "  </thead>\n",
       "  <tbody>\n",
       "    <tr>\n",
       "      <th>count</th>\n",
       "      <td>4929.000000</td>\n",
       "      <td>5966.000000</td>\n",
       "      <td>5966.000000</td>\n",
       "      <td>5966.000000</td>\n",
       "    </tr>\n",
       "    <tr>\n",
       "      <th>mean</th>\n",
       "      <td>12.832296</td>\n",
       "      <td>0.065667</td>\n",
       "      <td>140.979525</td>\n",
       "      <td>1997.750084</td>\n",
       "    </tr>\n",
       "    <tr>\n",
       "      <th>std</th>\n",
       "      <td>4.657712</td>\n",
       "      <td>0.051075</td>\n",
       "      <td>62.484874</td>\n",
       "      <td>8.402215</td>\n",
       "    </tr>\n",
       "    <tr>\n",
       "      <th>min</th>\n",
       "      <td>4.555000</td>\n",
       "      <td>0.000000</td>\n",
       "      <td>31.490000</td>\n",
       "      <td>1985.000000</td>\n",
       "    </tr>\n",
       "    <tr>\n",
       "      <th>25%</th>\n",
       "      <td>8.775000</td>\n",
       "      <td>0.026796</td>\n",
       "      <td>93.719900</td>\n",
       "      <td>1987.000000</td>\n",
       "    </tr>\n",
       "    <tr>\n",
       "      <th>50%</th>\n",
       "      <td>12.600000</td>\n",
       "      <td>0.053389</td>\n",
       "      <td>142.812800</td>\n",
       "      <td>1999.000000</td>\n",
       "    </tr>\n",
       "    <tr>\n",
       "      <th>75%</th>\n",
       "      <td>16.850000</td>\n",
       "      <td>0.094481</td>\n",
       "      <td>185.426600</td>\n",
       "      <td>2004.000000</td>\n",
       "    </tr>\n",
       "    <tr>\n",
       "      <th>max</th>\n",
       "      <td>21.350000</td>\n",
       "      <td>0.328391</td>\n",
       "      <td>266.888400</td>\n",
       "      <td>2009.000000</td>\n",
       "    </tr>\n",
       "  </tbody>\n",
       "</table>\n",
       "</div>"
      ],
      "text/plain": [
       "       Item_Weight  Item_Visibility     Item_MRP  Outlet_Establishment_Year\n",
       "count  4929.000000      5966.000000  5966.000000                5966.000000\n",
       "mean     12.832296         0.065667   140.979525                1997.750084\n",
       "std       4.657712         0.051075    62.484874                   8.402215\n",
       "min       4.555000         0.000000    31.490000                1985.000000\n",
       "25%       8.775000         0.026796    93.719900                1987.000000\n",
       "50%      12.600000         0.053389   142.812800                1999.000000\n",
       "75%      16.850000         0.094481   185.426600                2004.000000\n",
       "max      21.350000         0.328391   266.888400                2009.000000"
      ]
     },
     "execution_count": 24,
     "metadata": {},
     "output_type": "execute_result"
    }
   ],
   "source": [
    "num_data.describe()"
   ]
  },
  {
   "cell_type": "code",
   "execution_count": 28,
   "id": "0c4217f1-a532-4d14-88c1-e1d0c750bb03",
   "metadata": {},
   "outputs": [
    {
     "data": {
      "text/plain": [
       "Item_Weight                  1037\n",
       "Item_Visibility                 0\n",
       "Item_MRP                        0\n",
       "Outlet_Establishment_Year       0\n",
       "dtype: int64"
      ]
     },
     "execution_count": 28,
     "metadata": {},
     "output_type": "execute_result"
    }
   ],
   "source": [
    "num_data.isnull().sum()"
   ]
  },
  {
   "cell_type": "code",
   "execution_count": 30,
   "id": "781143cf-1424-40f3-8794-c0bcd3805cd8",
   "metadata": {},
   "outputs": [],
   "source": [
    "import seaborn as sns\n",
    "import matplotlib.pyplot as plt"
   ]
  },
  {
   "cell_type": "code",
   "execution_count": 31,
   "id": "1a93df2e-e7d9-47df-8f32-58326725160d",
   "metadata": {},
   "outputs": [
    {
     "data": {
      "text/plain": [
       "<Axes: ylabel='Item_Weight'>"
      ]
     },
     "execution_count": 31,
     "metadata": {},
     "output_type": "execute_result"
    },
    {
     "data": {
      "image/png": "[encoded data removed]",
      "text/plain": [
       "<Figure size 1400x600 with 2 Axes>"
      ]
     },
     "metadata": {},
     "output_type": "display_data"
    }
   ],
   "source": [
    "fig, ax =plt.subplots(1,2, figsize =(14,6))\n",
    "\n",
    "sns.histplot(data= x_train_new, x='Item_Weight', ax=ax[0])\n",
    "sns.boxplot(data= x_train_new, y='Item_Weight', ax=ax[1])"
   ]
  },
  {
   "cell_type": "code",
   "execution_count": 32,
   "id": "9c266a90-0b81-4ec4-aa41-7a0c22b8bb05",
   "metadata": {},
   "outputs": [],
   "source": [
    "def visualize_feature(data_frame, col_name):\n",
    "    fig, ax =plt.subplots(1,2, figsize =(14,6))\n",
    "\n",
    "    sns.histplot(data=data_frame , x=col_name, ax=ax[0]);\n",
    "    sns.boxplot(data=data_frame , y=col_name, ax=ax[1]);\n",
    "    "
   ]
  },
  {
   "cell_type": "code",
   "execution_count": 33,
   "id": "c4b0d610-5ed8-4b19-af03-4d5e4a4fd7ac",
   "metadata": {},
   "outputs": [
    {
     "data": {
      "image/png": "[encoded data removed]",
      "text/plain": [
       "<Figure size 1400x600 with 2 Axes>"
      ]
     },
     "metadata": {},
     "output_type": "display_data"
    }
   ],
   "source": [
    "visualize_feature(x_train_new, 'Item_Weight')"
   ]
  },
  {
   "cell_type": "code",
   "execution_count": 35,
   "id": "7e0d5864-0337-4f25-885d-0710b6ff6263",
   "metadata": {},
   "outputs": [
    {
     "data": {
      "image/png": "[encoded data removed]",
      "text/plain": [
       "<Figure size 1400x600 with 2 Axes>"
      ]
     },
     "metadata": {},
     "output_type": "display_data"
    }
   ],
   "source": [
    "visualize_feature(x_train_new, 'Item_Visibility')"
   ]
  },
  {
   "cell_type": "code",
   "execution_count": 36,
   "id": "d833d4d2-be42-4cf8-9c3e-f2d48b83d1cd",
   "metadata": {},
   "outputs": [
    {
     "data": {
      "image/png": "[encoded data removed]",
      "text/plain": [
       "<Figure size 1400x600 with 2 Axes>"
      ]
     },
     "metadata": {},
     "output_type": "display_data"
    }
   ],
   "source": [
    "visualize_feature(x_train_new, 'Item_MRP')"
   ]
  },
  {
   "cell_type": "code",
   "execution_count": 37,
   "id": "5de4ad67-6b25-4a6a-8f5a-dcaae4b362b2",
   "metadata": {},
   "outputs": [
    {
     "data": {
      "image/png": "[encoded data removed]",
      "text/plain": [
       "<Figure size 1400x600 with 2 Axes>"
      ]
     },
     "metadata": {},
     "output_type": "display_data"
    }
   ],
   "source": [
    "visualize_feature(x_train_new, 'Outlet_Establishment_Year')"
   ]
  },
  {
   "cell_type": "code",
   "execution_count": 38,
   "id": "dedcb69a-e343-4f05-a209-43cd2093bdab",
   "metadata": {},
   "outputs": [
    {
     "data": {
      "image/png": "[encoded data removed]",
      "text/plain": [
       "<Figure size 640x480 with 1 Axes>"
      ]
     },
     "metadata": {},
     "output_type": "display_data"
    }
   ],
   "source": [
    "sns.countplot(data= x_train_new, x='Outlet_Establishment_Year');"
   ]
  },
  {
   "cell_type": "markdown",
   "id": "7c4f64ff-e44d-4898-9983-ac4d35e636c3",
   "metadata": {},
   "source": [
    "Categorical data"
   ]
  },
  {
   "cell_type": "code",
   "execution_count": 42,
   "id": "6f6419a0-9668-4d2b-b96c-785b1acb73f7",
   "metadata": {},
   "outputs": [
    {
     "data": {
      "text/html": [
       "<div>\n",
       "<style scoped>\n",
       "    .dataframe tbody tr th:only-of-type {\n",
       "        vertical-align: middle;\n",
       "    }\n",
       "\n",
       "    .dataframe tbody tr th {\n",
       "        vertical-align: top;\n",
       "    }\n",
       "\n",
       "    .dataframe thead th {\n",
       "        text-align: right;\n",
       "    }\n",
       "</style>\n",
       "<table border=\"1\" class=\"dataframe\">\n",
       "  <thead>\n",
       "    <tr style=\"text-align: right;\">\n",
       "      <th></th>\n",
       "      <th>Item_Identifier</th>\n",
       "      <th>Item_Fat_Content</th>\n",
       "      <th>Item_Type</th>\n",
       "      <th>Outlet_Identifier</th>\n",
       "      <th>Outlet_Size</th>\n",
       "      <th>Outlet_Location_Type</th>\n",
       "      <th>Outlet_Type</th>\n",
       "    </tr>\n",
       "  </thead>\n",
       "  <tbody>\n",
       "    <tr>\n",
       "      <th>3058</th>\n",
       "      <td>NCM30</td>\n",
       "      <td>Low Fat</td>\n",
       "      <td>Household</td>\n",
       "      <td>OUT027</td>\n",
       "      <td>Medium</td>\n",
       "      <td>Tier 3</td>\n",
       "      <td>Supermarket Type3</td>\n",
       "    </tr>\n",
       "    <tr>\n",
       "      <th>2485</th>\n",
       "      <td>FDL22</td>\n",
       "      <td>low fat</td>\n",
       "      <td>Snack Foods</td>\n",
       "      <td>OUT017</td>\n",
       "      <td>NaN</td>\n",
       "      <td>Tier 2</td>\n",
       "      <td>Supermarket Type1</td>\n",
       "    </tr>\n",
       "    <tr>\n",
       "      <th>4100</th>\n",
       "      <td>FDV39</td>\n",
       "      <td>Low Fat</td>\n",
       "      <td>Meat</td>\n",
       "      <td>OUT013</td>\n",
       "      <td>High</td>\n",
       "      <td>Tier 3</td>\n",
       "      <td>Supermarket Type1</td>\n",
       "    </tr>\n",
       "    <tr>\n",
       "      <th>6487</th>\n",
       "      <td>FDA49</td>\n",
       "      <td>Low Fat</td>\n",
       "      <td>Canned</td>\n",
       "      <td>OUT035</td>\n",
       "      <td>Small</td>\n",
       "      <td>Tier 2</td>\n",
       "      <td>Supermarket Type1</td>\n",
       "    </tr>\n",
       "    <tr>\n",
       "      <th>6585</th>\n",
       "      <td>FDP60</td>\n",
       "      <td>Low Fat</td>\n",
       "      <td>Baking Goods</td>\n",
       "      <td>OUT046</td>\n",
       "      <td>Small</td>\n",
       "      <td>Tier 1</td>\n",
       "      <td>Supermarket Type1</td>\n",
       "    </tr>\n",
       "  </tbody>\n",
       "</table>\n",
       "</div>"
      ],
      "text/plain": [
       "     Item_Identifier Item_Fat_Content     Item_Type Outlet_Identifier  \\\n",
       "3058           NCM30          Low Fat     Household            OUT027   \n",
       "2485           FDL22          low fat   Snack Foods            OUT017   \n",
       "4100           FDV39          Low Fat          Meat            OUT013   \n",
       "6487           FDA49          Low Fat        Canned            OUT035   \n",
       "6585           FDP60          Low Fat  Baking Goods            OUT046   \n",
       "\n",
       "     Outlet_Size Outlet_Location_Type        Outlet_Type  \n",
       "3058      Medium               Tier 3  Supermarket Type3  \n",
       "2485         NaN               Tier 2  Supermarket Type1  \n",
       "4100        High               Tier 3  Supermarket Type1  \n",
       "6487       Small               Tier 2  Supermarket Type1  \n",
       "6585       Small               Tier 1  Supermarket Type1  "
      ]
     },
     "execution_count": 42,
     "metadata": {},
     "output_type": "execute_result"
    }
   ],
   "source": [
    "cat_features= x_train_new.select_dtypes(include=['object'])\n",
    "cat_features.head()"
   ]
  },
  {
   "cell_type": "code",
   "execution_count": 43,
   "id": "73754595-e2d3-4521-a18f-a4d998cc84d0",
   "metadata": {},
   "outputs": [
    {
     "data": {
      "text/html": [
       "<div>\n",
       "<style scoped>\n",
       "    .dataframe tbody tr th:only-of-type {\n",
       "        vertical-align: middle;\n",
       "    }\n",
       "\n",
       "    .dataframe tbody tr th {\n",
       "        vertical-align: top;\n",
       "    }\n",
       "\n",
       "    .dataframe thead th {\n",
       "        text-align: right;\n",
       "    }\n",
       "</style>\n",
       "<table border=\"1\" class=\"dataframe\">\n",
       "  <thead>\n",
       "    <tr style=\"text-align: right;\">\n",
       "      <th></th>\n",
       "      <th>Item_Identifier</th>\n",
       "      <th>Item_Fat_Content</th>\n",
       "      <th>Item_Type</th>\n",
       "      <th>Outlet_Identifier</th>\n",
       "      <th>Outlet_Size</th>\n",
       "      <th>Outlet_Location_Type</th>\n",
       "      <th>Outlet_Type</th>\n",
       "    </tr>\n",
       "  </thead>\n",
       "  <tbody>\n",
       "    <tr>\n",
       "      <th>count</th>\n",
       "      <td>5966</td>\n",
       "      <td>5966</td>\n",
       "      <td>5966</td>\n",
       "      <td>5966</td>\n",
       "      <td>4299</td>\n",
       "      <td>5966</td>\n",
       "      <td>5966</td>\n",
       "    </tr>\n",
       "    <tr>\n",
       "      <th>unique</th>\n",
       "      <td>1545</td>\n",
       "      <td>5</td>\n",
       "      <td>16</td>\n",
       "      <td>10</td>\n",
       "      <td>3</td>\n",
       "      <td>3</td>\n",
       "      <td>4</td>\n",
       "    </tr>\n",
       "    <tr>\n",
       "      <th>top</th>\n",
       "      <td>FDP25</td>\n",
       "      <td>Low Fat</td>\n",
       "      <td>Fruits and Vegetables</td>\n",
       "      <td>OUT013</td>\n",
       "      <td>Medium</td>\n",
       "      <td>Tier 3</td>\n",
       "      <td>Supermarket Type1</td>\n",
       "    </tr>\n",
       "    <tr>\n",
       "      <th>freq</th>\n",
       "      <td>9</td>\n",
       "      <td>3550</td>\n",
       "      <td>877</td>\n",
       "      <td>672</td>\n",
       "      <td>1958</td>\n",
       "      <td>2365</td>\n",
       "      <td>3907</td>\n",
       "    </tr>\n",
       "  </tbody>\n",
       "</table>\n",
       "</div>"
      ],
      "text/plain": [
       "       Item_Identifier Item_Fat_Content              Item_Type  \\\n",
       "count             5966             5966                   5966   \n",
       "unique            1545                5                     16   \n",
       "top              FDP25          Low Fat  Fruits and Vegetables   \n",
       "freq                 9             3550                    877   \n",
       "\n",
       "       Outlet_Identifier Outlet_Size Outlet_Location_Type        Outlet_Type  \n",
       "count               5966        4299                 5966               5966  \n",
       "unique                10           3                    3                  4  \n",
       "top               OUT013      Medium               Tier 3  Supermarket Type1  \n",
       "freq                 672        1958                 2365               3907  "
      ]
     },
     "execution_count": 43,
     "metadata": {},
     "output_type": "execute_result"
    }
   ],
   "source": [
    "cat_features.describe()"
   ]
  },
  {
   "cell_type": "code",
   "execution_count": 44,
   "id": "3ee9619d-1612-4b99-a1b8-8e6094411da0",
   "metadata": {},
   "outputs": [
    {
     "data": {
      "text/plain": [
       "Item_Identifier            0\n",
       "Item_Fat_Content           0\n",
       "Item_Type                  0\n",
       "Outlet_Identifier          0\n",
       "Outlet_Size             1667\n",
       "Outlet_Location_Type       0\n",
       "Outlet_Type                0\n",
       "dtype: int64"
      ]
     },
     "execution_count": 44,
     "metadata": {},
     "output_type": "execute_result"
    }
   ],
   "source": [
    "cat_features.isnull().sum()"
   ]
  },
  {
   "cell_type": "code",
   "execution_count": 46,
   "id": "ad45b7b7-f6de-4927-b6d7-5a277fc7b24c",
   "metadata": {
    "scrolled": true
   },
   "outputs": [
    {
     "data": {
      "text/plain": [
       "Item_Identifier\n",
       "FDP25    9\n",
       "FDV60    9\n",
       "FDD38    9\n",
       "FDX04    9\n",
       "FDW26    8\n",
       "        ..\n",
       "FDK32    1\n",
       "FDU28    1\n",
       "FDO44    1\n",
       "FDN52    1\n",
       "FDB47    1\n",
       "Name: count, Length: 1545, dtype: int64"
      ]
     },
     "execution_count": 46,
     "metadata": {},
     "output_type": "execute_result"
    }
   ],
   "source": [
    "cat_features['Item_Identifier'].value_counts()"
   ]
  },
  {
   "cell_type": "code",
   "execution_count": 47,
   "id": "ffefa1f1-3737-484b-b7b7-5510e092aa54",
   "metadata": {
    "scrolled": true
   },
   "outputs": [
    {
     "data": {
      "text/plain": [
       "Item_Fat_Content\n",
       "Low Fat    3550\n",
       "Regular    2023\n",
       "LF          222\n",
       "low fat      87\n",
       "reg          84\n",
       "Name: count, dtype: int64"
      ]
     },
     "execution_count": 47,
     "metadata": {},
     "output_type": "execute_result"
    }
   ],
   "source": [
    "cat_features['Item_Fat_Content'].value_counts()"
   ]
  },
  {
   "cell_type": "code",
   "execution_count": 49,
   "id": "4a376ecf-fdb4-4b7e-ac3a-1a9a96d3ae64",
   "metadata": {
    "scrolled": true
   },
   "outputs": [
    {
     "data": {
      "text/plain": [
       "Item_Type\n",
       "Fruits and Vegetables    877\n",
       "Snack Foods              840\n",
       "Household                629\n",
       "Frozen Foods             607\n",
       "Dairy                    484\n",
       "Canned                   459\n",
       "Baking Goods             454\n",
       "Health and Hygiene       361\n",
       "Meat                     305\n",
       "Soft Drinks              295\n",
       "Breads                   167\n",
       "Hard Drinks              146\n",
       "Others                   128\n",
       "Starchy Foods            101\n",
       "Breakfast                 70\n",
       "Seafood                   43\n",
       "Name: count, dtype: int64"
      ]
     },
     "execution_count": 49,
     "metadata": {},
     "output_type": "execute_result"
    }
   ],
   "source": [
    "cat_features['Item_Type'].value_counts()"
   ]
  },
  {
   "cell_type": "code",
   "execution_count": 50,
   "id": "daff800e-a202-4986-8706-84a688e95abe",
   "metadata": {},
   "outputs": [
    {
     "data": {
      "text/plain": [
       "Outlet_Identifier\n",
       "OUT013    672\n",
       "OUT027    671\n",
       "OUT035    664\n",
       "OUT049    647\n",
       "OUT045    643\n",
       "OUT017    642\n",
       "OUT018    640\n",
       "OUT046    639\n",
       "OUT010    382\n",
       "OUT019    366\n",
       "Name: count, dtype: int64"
      ]
     },
     "execution_count": 50,
     "metadata": {},
     "output_type": "execute_result"
    }
   ],
   "source": [
    "cat_features['Outlet_Identifier'].value_counts()"
   ]
  },
  {
   "cell_type": "code",
   "execution_count": 51,
   "id": "edc41e11-995e-4f0a-9221-e2b5aa511937",
   "metadata": {},
   "outputs": [
    {
     "data": {
      "text/plain": [
       "Outlet_Size\n",
       "Medium    1958\n",
       "Small     1669\n",
       "High       672\n",
       "Name: count, dtype: int64"
      ]
     },
     "execution_count": 51,
     "metadata": {},
     "output_type": "execute_result"
    }
   ],
   "source": [
    "cat_features['Outlet_Size'].value_counts()"
   ]
  },
  {
   "cell_type": "code",
   "execution_count": 53,
   "id": "7f8d297f-1825-45dd-aa5d-af882fc20d43",
   "metadata": {},
   "outputs": [
    {
     "data": {
      "text/plain": [
       "Outlet_Location_Type\n",
       "Tier 3    2365\n",
       "Tier 2    1949\n",
       "Tier 1    1652\n",
       "Name: count, dtype: int64"
      ]
     },
     "execution_count": 53,
     "metadata": {},
     "output_type": "execute_result"
    }
   ],
   "source": [
    "cat_features['Outlet_Location_Type'].value_counts()"
   ]
  },
  {
   "cell_type": "code",
   "execution_count": 54,
   "id": "5b286d60-e029-4fac-aefb-783e2c20a94b",
   "metadata": {},
   "outputs": [
    {
     "data": {
      "text/plain": [
       "Outlet_Type\n",
       "Supermarket Type1    3907\n",
       "Grocery Store         748\n",
       "Supermarket Type3     671\n",
       "Supermarket Type2     640\n",
       "Name: count, dtype: int64"
      ]
     },
     "execution_count": 54,
     "metadata": {},
     "output_type": "execute_result"
    }
   ],
   "source": [
    "cat_features['Outlet_Type'].value_counts()"
   ]
  },
  {
   "cell_type": "markdown",
   "id": "cb56d5b1-cf33-4d87-8c4a-341240fc66fe",
   "metadata": {},
   "source": [
    "DATA WRANGLING N FEATURE ENGINEERING"
   ]
  },
  {
   "cell_type": "code",
   "execution_count": 58,
   "id": "999d20c9-cbd9-4f71-8e7d-0c2b3a70fa1d",
   "metadata": {},
   "outputs": [],
   "source": [
    "ss =x_train_new['Item_Identifier'].apply(lambda x :x[:2])"
   ]
  },
  {
   "cell_type": "code",
   "execution_count": 62,
   "id": "2681ae33-582b-4a5e-b1ad-3d4c078325ea",
   "metadata": {},
   "outputs": [
    {
     "data": {
      "text/plain": [
       "Item_Identifier\n",
       "FD    4309\n",
       "NC    1118\n",
       "DR     539\n",
       "Name: count, dtype: int64"
      ]
     },
     "execution_count": 62,
     "metadata": {},
     "output_type": "execute_result"
    }
   ],
   "source": [
    "ss.value_counts()"
   ]
  },
  {
   "cell_type": "code",
   "execution_count": 70,
   "id": "13e211b5-1b3d-4de9-b392-ecc3ceb57911",
   "metadata": {},
   "outputs": [],
   "source": [
    "def create_item_type(data_frame):\n",
    "    data_frame['item_type']=data_frame['Item_Identifier'].apply(lambda x :x[:2])\n",
    "    data_frame['item_type']=data_frame['item_type'].apply(lambda x :x[:2]).map({\n",
    "                                            'FD' : 'Food',\n",
    "                                            'NC' : 'Non Consumable',\n",
    "                                            'DR' : 'Drink'\n",
    "    })\n",
    "    return data_frame "
   ]
  },
  {
   "cell_type": "code",
   "execution_count": 72,
   "id": "e9361466-f91a-44b8-a939-61b765053ef8",
   "metadata": {},
   "outputs": [
    {
     "data": {
      "text/html": [
       "<div>\n",
       "<style scoped>\n",
       "    .dataframe tbody tr th:only-of-type {\n",
       "        vertical-align: middle;\n",
       "    }\n",
       "\n",
       "    .dataframe tbody tr th {\n",
       "        vertical-align: top;\n",
       "    }\n",
       "\n",
       "    .dataframe thead th {\n",
       "        text-align: right;\n",
       "    }\n",
       "</style>\n",
       "<table border=\"1\" class=\"dataframe\">\n",
       "  <thead>\n",
       "    <tr style=\"text-align: right;\">\n",
       "      <th></th>\n",
       "      <th>Item_Identifier</th>\n",
       "      <th>Item_Weight</th>\n",
       "      <th>Item_Fat_Content</th>\n",
       "      <th>Item_Visibility</th>\n",
       "      <th>Item_Type</th>\n",
       "      <th>Item_MRP</th>\n",
       "      <th>Outlet_Identifier</th>\n",
       "      <th>Outlet_Establishment_Year</th>\n",
       "      <th>Outlet_Size</th>\n",
       "      <th>Outlet_Location_Type</th>\n",
       "      <th>Outlet_Type</th>\n",
       "      <th>item_type</th>\n",
       "    </tr>\n",
       "  </thead>\n",
       "  <tbody>\n",
       "    <tr>\n",
       "      <th>3058</th>\n",
       "      <td>NCM30</td>\n",
       "      <td>NaN</td>\n",
       "      <td>Low Fat</td>\n",
       "      <td>0.066970</td>\n",
       "      <td>Household</td>\n",
       "      <td>39.2796</td>\n",
       "      <td>OUT027</td>\n",
       "      <td>1985</td>\n",
       "      <td>Medium</td>\n",
       "      <td>Tier 3</td>\n",
       "      <td>Supermarket Type3</td>\n",
       "      <td>Non Consumable</td>\n",
       "    </tr>\n",
       "    <tr>\n",
       "      <th>2485</th>\n",
       "      <td>FDL22</td>\n",
       "      <td>16.85</td>\n",
       "      <td>low fat</td>\n",
       "      <td>0.036596</td>\n",
       "      <td>Snack Foods</td>\n",
       "      <td>90.6488</td>\n",
       "      <td>OUT017</td>\n",
       "      <td>2007</td>\n",
       "      <td>NaN</td>\n",
       "      <td>Tier 2</td>\n",
       "      <td>Supermarket Type1</td>\n",
       "      <td>Food</td>\n",
       "    </tr>\n",
       "    <tr>\n",
       "      <th>4100</th>\n",
       "      <td>FDV39</td>\n",
       "      <td>11.30</td>\n",
       "      <td>Low Fat</td>\n",
       "      <td>0.007274</td>\n",
       "      <td>Meat</td>\n",
       "      <td>196.6426</td>\n",
       "      <td>OUT013</td>\n",
       "      <td>1987</td>\n",
       "      <td>High</td>\n",
       "      <td>Tier 3</td>\n",
       "      <td>Supermarket Type1</td>\n",
       "      <td>Food</td>\n",
       "    </tr>\n",
       "    <tr>\n",
       "      <th>6487</th>\n",
       "      <td>FDA49</td>\n",
       "      <td>19.70</td>\n",
       "      <td>Low Fat</td>\n",
       "      <td>0.064909</td>\n",
       "      <td>Canned</td>\n",
       "      <td>88.5198</td>\n",
       "      <td>OUT035</td>\n",
       "      <td>2004</td>\n",
       "      <td>Small</td>\n",
       "      <td>Tier 2</td>\n",
       "      <td>Supermarket Type1</td>\n",
       "      <td>Food</td>\n",
       "    </tr>\n",
       "    <tr>\n",
       "      <th>6585</th>\n",
       "      <td>FDP60</td>\n",
       "      <td>17.35</td>\n",
       "      <td>Low Fat</td>\n",
       "      <td>0.000000</td>\n",
       "      <td>Baking Goods</td>\n",
       "      <td>102.9016</td>\n",
       "      <td>OUT046</td>\n",
       "      <td>1997</td>\n",
       "      <td>Small</td>\n",
       "      <td>Tier 1</td>\n",
       "      <td>Supermarket Type1</td>\n",
       "      <td>Food</td>\n",
       "    </tr>\n",
       "  </tbody>\n",
       "</table>\n",
       "</div>"
      ],
      "text/plain": [
       "     Item_Identifier  Item_Weight Item_Fat_Content  Item_Visibility  \\\n",
       "3058           NCM30          NaN          Low Fat         0.066970   \n",
       "2485           FDL22        16.85          low fat         0.036596   \n",
       "4100           FDV39        11.30          Low Fat         0.007274   \n",
       "6487           FDA49        19.70          Low Fat         0.064909   \n",
       "6585           FDP60        17.35          Low Fat         0.000000   \n",
       "\n",
       "         Item_Type  Item_MRP Outlet_Identifier  Outlet_Establishment_Year  \\\n",
       "3058     Household   39.2796            OUT027                       1985   \n",
       "2485   Snack Foods   90.6488            OUT017                       2007   \n",
       "4100          Meat  196.6426            OUT013                       1987   \n",
       "6487        Canned   88.5198            OUT035                       2004   \n",
       "6585  Baking Goods  102.9016            OUT046                       1997   \n",
       "\n",
       "     Outlet_Size Outlet_Location_Type        Outlet_Type       item_type  \n",
       "3058      Medium               Tier 3  Supermarket Type3  Non Consumable  \n",
       "2485         NaN               Tier 2  Supermarket Type1            Food  \n",
       "4100        High               Tier 3  Supermarket Type1            Food  \n",
       "6487       Small               Tier 2  Supermarket Type1            Food  \n",
       "6585       Small               Tier 1  Supermarket Type1            Food  "
      ]
     },
     "execution_count": 72,
     "metadata": {},
     "output_type": "execute_result"
    }
   ],
   "source": [
    "x_train_new = create_item_type(x_train_new)\n",
    "x_train_new.head()"
   ]
  },
  {
   "cell_type": "code",
   "execution_count": 73,
   "id": "f970ed80-b363-407d-964c-996ca4dd3438",
   "metadata": {},
   "outputs": [],
   "source": [
    "# now filling up the missing item_weight\n",
    "#mapping ID with weight and where ID is unique, using item_type"
   ]
  },
  {
   "cell_type": "code",
   "execution_count": 75,
   "id": "ac9d1be5-a70c-40c5-b8b1-71b7ffe09831",
   "metadata": {},
   "outputs": [
    {
     "data": {
      "text/plain": [
       "[('DRA12', 11.6),\n",
       " ('DRA24', 19.35),\n",
       " ('DRA59', 8.27),\n",
       " ('DRB01', 7.39),\n",
       " ('DRB13', 6.115),\n",
       " ('DRB24', 8.785),\n",
       " ('DRB25', 12.3),\n",
       " ('DRB48', 16.75),\n",
       " ('DRC01', 5.92),\n",
       " ('DRC12', 17.85)]"
      ]
     },
     "execution_count": 75,
     "metadata": {},
     "output_type": "execute_result"
    }
   ],
   "source": [
    "item_id_weight_pivot = x_train_new.pivot_table( values = 'Item_Weight', index = 'Item_Identifier').reset_index()\n",
    "item_id_weight_mapping = dict(zip(item_id_weight_pivot['Item_Identifier'], item_id_weight_pivot['Item_Weight']))\n",
    "list(item_id_weight_mapping.items())[:10]"
   ]
  },
  {
   "cell_type": "code",
   "execution_count": 76,
   "id": "bbe783dd-fc57-4ebb-a822-8a96498654da",
   "metadata": {},
   "outputs": [
    {
     "data": {
      "text/html": [
       "<div>\n",
       "<style scoped>\n",
       "    .dataframe tbody tr th:only-of-type {\n",
       "        vertical-align: middle;\n",
       "    }\n",
       "\n",
       "    .dataframe tbody tr th {\n",
       "        vertical-align: top;\n",
       "    }\n",
       "\n",
       "    .dataframe thead th {\n",
       "        text-align: right;\n",
       "    }\n",
       "</style>\n",
       "<table border=\"1\" class=\"dataframe\">\n",
       "  <thead>\n",
       "    <tr style=\"text-align: right;\">\n",
       "      <th></th>\n",
       "      <th>item_type</th>\n",
       "      <th>Item_Weight</th>\n",
       "    </tr>\n",
       "  </thead>\n",
       "  <tbody>\n",
       "    <tr>\n",
       "      <th>0</th>\n",
       "      <td>Drink</td>\n",
       "      <td>12.117863</td>\n",
       "    </tr>\n",
       "    <tr>\n",
       "      <th>1</th>\n",
       "      <td>Food</td>\n",
       "      <td>12.795323</td>\n",
       "    </tr>\n",
       "    <tr>\n",
       "      <th>2</th>\n",
       "      <td>Non Consumable</td>\n",
       "      <td>13.315840</td>\n",
       "    </tr>\n",
       "  </tbody>\n",
       "</table>\n",
       "</div>"
      ],
      "text/plain": [
       "        item_type  Item_Weight\n",
       "0           Drink    12.117863\n",
       "1            Food    12.795323\n",
       "2  Non Consumable    13.315840"
      ]
     },
     "execution_count": 76,
     "metadata": {},
     "output_type": "execute_result"
    }
   ],
   "source": [
    "item_type_weight_pivot = x_train_new.pivot_table( values = 'Item_Weight', index = 'item_type').reset_index()\n",
    "item_type_weight_pivot"
   ]
  },
  {
   "cell_type": "code",
   "execution_count": 79,
   "id": "673e3bfc-3f59-450d-9b22-e1437147c60a",
   "metadata": {},
   "outputs": [
    {
     "data": {
      "text/plain": [
       "[('Drink', 12.117863436123349),\n",
       " ('Food', 12.795322580645161),\n",
       " ('Non Consumable', 13.315839532412328)]"
      ]
     },
     "execution_count": 79,
     "metadata": {},
     "output_type": "execute_result"
    }
   ],
   "source": [
    "item_type_weight_mapping= dict(zip(item_type_weight_pivot['item_type'], item_type_weight_pivot['Item_Weight']))\n",
    "list(item_type_weight_mapping.items())[:10]                                  "
   ]
  },
  {
   "cell_type": "code",
   "execution_count": 81,
   "id": "95232151-feb2-4714-9278-97e4dd0065a2",
   "metadata": {},
   "outputs": [],
   "source": [
    "def fill_item_weight(data_frame):\n",
    "    data_frame.loc[:,'Item_Weight'] = data_frame.loc[:,'Item_Weight'].fillna(data_frame.loc[:,'Item_Identifier'].map(item_id_weight_mapping))\n",
    "    data_frame.loc[:,'Item_Weight'] = data_frame.loc[:,'Item_Weight'].fillna(data_frame.loc[:,'item_type'].map(item_type_weight_mapping))\n",
    "    return data_frame"
   ]
  },
  {
   "cell_type": "code",
   "execution_count": 82,
   "id": "e41d6d42-b567-4b75-b3b4-161208f803ba",
   "metadata": {},
   "outputs": [
    {
     "data": {
      "text/plain": [
       "Item_Identifier                 0\n",
       "Item_Weight                     0\n",
       "Item_Fat_Content                0\n",
       "Item_Visibility                 0\n",
       "Item_Type                       0\n",
       "Item_MRP                        0\n",
       "Outlet_Identifier               0\n",
       "Outlet_Establishment_Year       0\n",
       "Outlet_Size                  1667\n",
       "Outlet_Location_Type            0\n",
       "Outlet_Type                     0\n",
       "item_type                       0\n",
       "dtype: int64"
      ]
     },
     "execution_count": 82,
     "metadata": {},
     "output_type": "execute_result"
    }
   ],
   "source": [
    "x_train_new= fill_item_weight(x_train_new)\n",
    "x_train_new.isnull().sum()"
   ]
  },
  {
   "cell_type": "code",
   "execution_count": 86,
   "id": "aa7805dd-2730-4f10-9908-f367607675d6",
   "metadata": {},
   "outputs": [],
   "source": [
    "# filling in outlet_size"
   ]
  },
  {
   "cell_type": "code",
   "execution_count": 89,
   "id": "efd84129-c856-480b-9097-abd7e3fd7f30",
   "metadata": {},
   "outputs": [],
   "source": [
    "from scipy.stats import mode"
   ]
  },
  {
   "cell_type": "code",
   "execution_count": null,
   "id": "55cef3a0-56d4-4faf-bb35-f9a033902b4f",
   "metadata": {},
   "outputs": [],
   "source": []
  },
  {
   "cell_type": "code",
   "execution_count": 93,
   "id": "e718d446-1a1d-4adc-a97e-35078b76fb35",
   "metadata": {
    "scrolled": true
   },
   "outputs": [
    {
     "data": {
      "text/plain": [
       "Item_Identifier                 0\n",
       "Item_Weight                     0\n",
       "Item_Fat_Content                0\n",
       "Item_Visibility                 0\n",
       "Item_Type                       0\n",
       "Item_MRP                        0\n",
       "Outlet_Identifier               0\n",
       "Outlet_Establishment_Year       0\n",
       "Outlet_Size                  1667\n",
       "Outlet_Location_Type            0\n",
       "Outlet_Type                     0\n",
       "item_type                       0\n",
       "dtype: int64"
      ]
     },
     "execution_count": 93,
     "metadata": {},
     "output_type": "execute_result"
    }
   ],
   "source": [
    "x_train_new.isnull().sum()"
   ]
  },
  {
   "cell_type": "code",
   "execution_count": 95,
   "id": "ef86a206-4f4d-4e05-8a68-6fdcf6dff47b",
   "metadata": {},
   "outputs": [],
   "source": [
    "def item_fat_content(data_frame):\n",
    "    data_frame['Item_Fat_Content']= data_frame['Item_Fat_Content'].replace({\n",
    "                                                'Low Fat' : 'Low_Fat',\n",
    "                                                'LF' : 'Low_Fat',\n",
    "                                                'reg' : 'Regular',\n",
    "                                                'low fat' : 'Low_Fat'\n",
    "          })\n",
    "    return data_frame\n"
   ]
  },
  {
   "cell_type": "code",
   "execution_count": 97,
   "id": "9431c126-ebc2-48b0-a7d4-e694847c621a",
   "metadata": {},
   "outputs": [
    {
     "data": {
      "text/plain": [
       "Item_Fat_Content\n",
       "Low_Fat    3859\n",
       "Regular    2107\n",
       "Name: count, dtype: int64"
      ]
     },
     "execution_count": 97,
     "metadata": {},
     "output_type": "execute_result"
    }
   ],
   "source": [
    "x_train_new =  item_fat_content(x_train_new)\n",
    "x_train_new['Item_Fat_Content'].value_counts()"
   ]
  },
  {
   "cell_type": "code",
   "execution_count": 99,
   "id": "c3a42453-fd9f-4f45-ad29-1e3288a6d558",
   "metadata": {},
   "outputs": [
    {
     "data": {
      "text/plain": [
       "item_type       Item_Fat_Content\n",
       "Drink           Low_Fat              491\n",
       "                Regular               48\n",
       "Food            Low_Fat             2250\n",
       "                Regular             2059\n",
       "Non Consumable  Low_Fat             1118\n",
       "dtype: int64"
      ]
     },
     "execution_count": 99,
     "metadata": {},
     "output_type": "execute_result"
    }
   ],
   "source": [
    "x_train_new.groupby(by=['item_type', 'Item_Fat_Content']).size()\n",
    "                    "
   ]
  },
  {
   "cell_type": "code",
   "execution_count": 101,
   "id": "a1294cd1-6140-4529-aa41-e6cbb8cb4fb8",
   "metadata": {},
   "outputs": [],
   "source": [
    "def correction_item_fat_content(data_frame):\n",
    "    data_frame.loc[data_frame['item_type'] == 'Non Consumable', 'Item_Fat_Content']= 'non edible'\n",
    "    return data_frame\n",
    "\n"
   ]
  },
  {
   "cell_type": "code",
   "execution_count": 103,
   "id": "feb7eafe-f8f7-4926-881a-e00b6f01b989",
   "metadata": {},
   "outputs": [],
   "source": [
    "x_train_new = correction_item_fat_content(x_train_new)"
   ]
  },
  {
   "cell_type": "code",
   "execution_count": 105,
   "id": "7b6a6435-184b-430f-81ee-d183d9a6017e",
   "metadata": {},
   "outputs": [
    {
     "data": {
      "text/plain": [
       "item_type       Item_Fat_Content\n",
       "Drink           Low_Fat              491\n",
       "                Regular               48\n",
       "Food            Low_Fat             2250\n",
       "                Regular             2059\n",
       "Non Consumable  non edible          1118\n",
       "dtype: int64"
      ]
     },
     "execution_count": 105,
     "metadata": {},
     "output_type": "execute_result"
    }
   ],
   "source": [
    "x_train_new.groupby(by=['item_type', 'Item_Fat_Content']).size()"
   ]
  },
  {
   "cell_type": "code",
   "execution_count": 107,
   "id": "bbf1dac5-5f10-4b11-b472-ddf23bdd4710",
   "metadata": {},
   "outputs": [
    {
     "name": "stdout",
     "output_type": "stream",
     "text": [
      "<class 'pandas.core.frame.DataFrame'>\n",
      "Index: 5966 entries, 3058 to 3392\n",
      "Data columns (total 12 columns):\n",
      " #   Column                     Non-Null Count  Dtype  \n",
      "---  ------                     --------------  -----  \n",
      " 0   Item_Identifier            5966 non-null   object \n",
      " 1   Item_Weight                5966 non-null   float64\n",
      " 2   Item_Fat_Content           5966 non-null   object \n",
      " 3   Item_Visibility            5966 non-null   float64\n",
      " 4   Item_Type                  5966 non-null   object \n",
      " 5   Item_MRP                   5966 non-null   float64\n",
      " 6   Outlet_Identifier          5966 non-null   object \n",
      " 7   Outlet_Establishment_Year  5966 non-null   int64  \n",
      " 8   Outlet_Size                4299 non-null   object \n",
      " 9   Outlet_Location_Type       5966 non-null   object \n",
      " 10  Outlet_Type                5966 non-null   object \n",
      " 11  item_type                  5966 non-null   object \n",
      "dtypes: float64(3), int64(1), object(8)\n",
      "memory usage: 605.9+ KB\n"
     ]
    }
   ],
   "source": [
    "x_train_new.info()"
   ]
  },
  {
   "cell_type": "code",
   "execution_count": 109,
   "id": "17857923-8a61-4dca-ada1-161a887406b2",
   "metadata": {},
   "outputs": [],
   "source": [
    "#now prep dataset for ML"
   ]
  },
  {
   "cell_type": "code",
   "execution_count": 111,
   "id": "7f78c173-9704-49d8-a40a-f7817a997526",
   "metadata": {},
   "outputs": [],
   "source": [
    "def Dataset(data_frame):\n",
    "    # create item_type\n",
    "    data_frame = create_item_type(data_frame)\n",
    "    # filling in the missing item weights\n",
    "    data_frame = fill_item_weight(data_frame)\n",
    "    #filling in outlet_size\n",
    "    #data_frame = mode_func(data_frame)\n",
    "    #standardizing item_fat_content\n",
    "    data_frame = item_fat_content(data_frame)\n",
    "    #correction item_fat_content\n",
    "    data_frame = correction_item_fat_content(data_frame)\n",
    "\n",
    "    return data_frame"
   ]
  },
  {
   "cell_type": "code",
   "execution_count": 113,
   "id": "69973113-79a3-4831-8f8b-6c89e8d3f4c4",
   "metadata": {},
   "outputs": [
    {
     "data": {
      "text/plain": [
       "Item_Identifier                 0\n",
       "Item_Weight                  1037\n",
       "Item_Fat_Content                0\n",
       "Item_Visibility                 0\n",
       "Item_Type                       0\n",
       "Item_MRP                        0\n",
       "Outlet_Identifier               0\n",
       "Outlet_Establishment_Year       0\n",
       "Outlet_Size                  1667\n",
       "Outlet_Location_Type            0\n",
       "Outlet_Type                     0\n",
       "dtype: int64"
      ]
     },
     "execution_count": 113,
     "metadata": {},
     "output_type": "execute_result"
    }
   ],
   "source": [
    "x_train.isnull().sum()"
   ]
  },
  {
   "cell_type": "code",
   "execution_count": 115,
   "id": "c921b093-1c72-4934-88b8-e984e7a2cef8",
   "metadata": {},
   "outputs": [
    {
     "data": {
      "text/plain": [
       "Item_Identifier                 0\n",
       "Item_Weight                     0\n",
       "Item_Fat_Content                0\n",
       "Item_Visibility                 0\n",
       "Item_Type                       0\n",
       "Item_MRP                        0\n",
       "Outlet_Identifier               0\n",
       "Outlet_Establishment_Year       0\n",
       "Outlet_Size                  1667\n",
       "Outlet_Location_Type            0\n",
       "Outlet_Type                     0\n",
       "item_type                       0\n",
       "dtype: int64"
      ]
     },
     "execution_count": 115,
     "metadata": {},
     "output_type": "execute_result"
    }
   ],
   "source": [
    "x_train= Dataset(x_train)\n",
    "x_train.isnull().sum()"
   ]
  },
  {
   "cell_type": "code",
   "execution_count": 117,
   "id": "f0afdf52-690c-4966-9d0c-d83404ca651c",
   "metadata": {},
   "outputs": [
    {
     "data": {
      "text/plain": [
       "Item_Identifier                0\n",
       "Item_Weight                  426\n",
       "Item_Fat_Content               0\n",
       "Item_Visibility                0\n",
       "Item_Type                      0\n",
       "Item_MRP                       0\n",
       "Outlet_Identifier              0\n",
       "Outlet_Establishment_Year      0\n",
       "Outlet_Size                  743\n",
       "Outlet_Location_Type           0\n",
       "Outlet_Type                    0\n",
       "dtype: int64"
      ]
     },
     "execution_count": 117,
     "metadata": {},
     "output_type": "execute_result"
    }
   ],
   "source": [
    "x_test.isnull().sum()"
   ]
  },
  {
   "cell_type": "code",
   "execution_count": 119,
   "id": "f391488d-d95c-4b9a-a9fd-18143a17939a",
   "metadata": {},
   "outputs": [
    {
     "data": {
      "text/plain": [
       "Item_Identifier                0\n",
       "Item_Weight                    0\n",
       "Item_Fat_Content               0\n",
       "Item_Visibility                0\n",
       "Item_Type                      0\n",
       "Item_MRP                       0\n",
       "Outlet_Identifier              0\n",
       "Outlet_Establishment_Year      0\n",
       "Outlet_Size                  743\n",
       "Outlet_Location_Type           0\n",
       "Outlet_Type                    0\n",
       "item_type                      0\n",
       "dtype: int64"
      ]
     },
     "execution_count": 119,
     "metadata": {},
     "output_type": "execute_result"
    }
   ],
   "source": [
    "x_test = Dataset(x_test)\n",
    "x_test.isnull().sum()"
   ]
  },
  {
   "cell_type": "markdown",
   "id": "39137c70-a081-425d-bef9-c50e7449d5e1",
   "metadata": {},
   "source": [
    "# handling categorical data"
   ]
  },
  {
   "cell_type": "code",
   "execution_count": 122,
   "id": "ba5527a7-6803-4a6e-b72f-41fe70732c58",
   "metadata": {},
   "outputs": [
    {
     "data": {
      "text/html": [
       "<div>\n",
       "<style scoped>\n",
       "    .dataframe tbody tr th:only-of-type {\n",
       "        vertical-align: middle;\n",
       "    }\n",
       "\n",
       "    .dataframe tbody tr th {\n",
       "        vertical-align: top;\n",
       "    }\n",
       "\n",
       "    .dataframe thead th {\n",
       "        text-align: right;\n",
       "    }\n",
       "</style>\n",
       "<table border=\"1\" class=\"dataframe\">\n",
       "  <thead>\n",
       "    <tr style=\"text-align: right;\">\n",
       "      <th></th>\n",
       "      <th>Item_Identifier</th>\n",
       "      <th>Item_Fat_Content</th>\n",
       "      <th>Item_Type</th>\n",
       "      <th>Outlet_Identifier</th>\n",
       "      <th>Outlet_Size</th>\n",
       "      <th>Outlet_Location_Type</th>\n",
       "      <th>Outlet_Type</th>\n",
       "      <th>item_type</th>\n",
       "    </tr>\n",
       "  </thead>\n",
       "  <tbody>\n",
       "    <tr>\n",
       "      <th>3058</th>\n",
       "      <td>NCM30</td>\n",
       "      <td>non edible</td>\n",
       "      <td>Household</td>\n",
       "      <td>OUT027</td>\n",
       "      <td>Medium</td>\n",
       "      <td>Tier 3</td>\n",
       "      <td>Supermarket Type3</td>\n",
       "      <td>Non Consumable</td>\n",
       "    </tr>\n",
       "    <tr>\n",
       "      <th>2485</th>\n",
       "      <td>FDL22</td>\n",
       "      <td>Low_Fat</td>\n",
       "      <td>Snack Foods</td>\n",
       "      <td>OUT017</td>\n",
       "      <td>NaN</td>\n",
       "      <td>Tier 2</td>\n",
       "      <td>Supermarket Type1</td>\n",
       "      <td>Food</td>\n",
       "    </tr>\n",
       "    <tr>\n",
       "      <th>4100</th>\n",
       "      <td>FDV39</td>\n",
       "      <td>Low_Fat</td>\n",
       "      <td>Meat</td>\n",
       "      <td>OUT013</td>\n",
       "      <td>High</td>\n",
       "      <td>Tier 3</td>\n",
       "      <td>Supermarket Type1</td>\n",
       "      <td>Food</td>\n",
       "    </tr>\n",
       "    <tr>\n",
       "      <th>6487</th>\n",
       "      <td>FDA49</td>\n",
       "      <td>Low_Fat</td>\n",
       "      <td>Canned</td>\n",
       "      <td>OUT035</td>\n",
       "      <td>Small</td>\n",
       "      <td>Tier 2</td>\n",
       "      <td>Supermarket Type1</td>\n",
       "      <td>Food</td>\n",
       "    </tr>\n",
       "    <tr>\n",
       "      <th>6585</th>\n",
       "      <td>FDP60</td>\n",
       "      <td>Low_Fat</td>\n",
       "      <td>Baking Goods</td>\n",
       "      <td>OUT046</td>\n",
       "      <td>Small</td>\n",
       "      <td>Tier 1</td>\n",
       "      <td>Supermarket Type1</td>\n",
       "      <td>Food</td>\n",
       "    </tr>\n",
       "    <tr>\n",
       "      <th>...</th>\n",
       "      <td>...</td>\n",
       "      <td>...</td>\n",
       "      <td>...</td>\n",
       "      <td>...</td>\n",
       "      <td>...</td>\n",
       "      <td>...</td>\n",
       "      <td>...</td>\n",
       "      <td>...</td>\n",
       "    </tr>\n",
       "    <tr>\n",
       "      <th>8499</th>\n",
       "      <td>NCK53</td>\n",
       "      <td>non edible</td>\n",
       "      <td>Health and Hygiene</td>\n",
       "      <td>OUT035</td>\n",
       "      <td>Small</td>\n",
       "      <td>Tier 2</td>\n",
       "      <td>Supermarket Type1</td>\n",
       "      <td>Non Consumable</td>\n",
       "    </tr>\n",
       "    <tr>\n",
       "      <th>2064</th>\n",
       "      <td>FDG50</td>\n",
       "      <td>Low_Fat</td>\n",
       "      <td>Canned</td>\n",
       "      <td>OUT018</td>\n",
       "      <td>Medium</td>\n",
       "      <td>Tier 3</td>\n",
       "      <td>Supermarket Type2</td>\n",
       "      <td>Food</td>\n",
       "    </tr>\n",
       "    <tr>\n",
       "      <th>7985</th>\n",
       "      <td>NCX29</td>\n",
       "      <td>non edible</td>\n",
       "      <td>Health and Hygiene</td>\n",
       "      <td>OUT013</td>\n",
       "      <td>High</td>\n",
       "      <td>Tier 3</td>\n",
       "      <td>Supermarket Type1</td>\n",
       "      <td>Non Consumable</td>\n",
       "    </tr>\n",
       "    <tr>\n",
       "      <th>2303</th>\n",
       "      <td>FDV59</td>\n",
       "      <td>Low_Fat</td>\n",
       "      <td>Breads</td>\n",
       "      <td>OUT046</td>\n",
       "      <td>Small</td>\n",
       "      <td>Tier 1</td>\n",
       "      <td>Supermarket Type1</td>\n",
       "      <td>Food</td>\n",
       "    </tr>\n",
       "    <tr>\n",
       "      <th>3392</th>\n",
       "      <td>FDK36</td>\n",
       "      <td>Low_Fat</td>\n",
       "      <td>Baking Goods</td>\n",
       "      <td>OUT046</td>\n",
       "      <td>Small</td>\n",
       "      <td>Tier 1</td>\n",
       "      <td>Supermarket Type1</td>\n",
       "      <td>Food</td>\n",
       "    </tr>\n",
       "  </tbody>\n",
       "</table>\n",
       "<p>5966 rows × 8 columns</p>\n",
       "</div>"
      ],
      "text/plain": [
       "     Item_Identifier Item_Fat_Content           Item_Type Outlet_Identifier  \\\n",
       "3058           NCM30       non edible           Household            OUT027   \n",
       "2485           FDL22          Low_Fat         Snack Foods            OUT017   \n",
       "4100           FDV39          Low_Fat                Meat            OUT013   \n",
       "6487           FDA49          Low_Fat              Canned            OUT035   \n",
       "6585           FDP60          Low_Fat        Baking Goods            OUT046   \n",
       "...              ...              ...                 ...               ...   \n",
       "8499           NCK53       non edible  Health and Hygiene            OUT035   \n",
       "2064           FDG50          Low_Fat              Canned            OUT018   \n",
       "7985           NCX29       non edible  Health and Hygiene            OUT013   \n",
       "2303           FDV59          Low_Fat              Breads            OUT046   \n",
       "3392           FDK36          Low_Fat        Baking Goods            OUT046   \n",
       "\n",
       "     Outlet_Size Outlet_Location_Type        Outlet_Type       item_type  \n",
       "3058      Medium               Tier 3  Supermarket Type3  Non Consumable  \n",
       "2485         NaN               Tier 2  Supermarket Type1            Food  \n",
       "4100        High               Tier 3  Supermarket Type1            Food  \n",
       "6487       Small               Tier 2  Supermarket Type1            Food  \n",
       "6585       Small               Tier 1  Supermarket Type1            Food  \n",
       "...          ...                  ...                ...             ...  \n",
       "8499       Small               Tier 2  Supermarket Type1  Non Consumable  \n",
       "2064      Medium               Tier 3  Supermarket Type2            Food  \n",
       "7985        High               Tier 3  Supermarket Type1  Non Consumable  \n",
       "2303       Small               Tier 1  Supermarket Type1            Food  \n",
       "3392       Small               Tier 1  Supermarket Type1            Food  \n",
       "\n",
       "[5966 rows x 8 columns]"
      ]
     },
     "execution_count": 122,
     "metadata": {},
     "output_type": "execute_result"
    }
   ],
   "source": [
    "cat_features = x_train.select_dtypes(include=['object'])\n",
    "cat_features"
   ]
  },
  {
   "cell_type": "code",
   "execution_count": 124,
   "id": "6175bbec-a954-43e5-99a7-2b8c3112475e",
   "metadata": {},
   "outputs": [],
   "source": [
    "from sklearn.preprocessing import OneHotEncoder"
   ]
  },
  {
   "cell_type": "code",
   "execution_count": 126,
   "id": "960f47d9-eecf-4fbc-922f-e15fe0198c18",
   "metadata": {},
   "outputs": [
    {
     "data": {
      "text/html": [
       "<style>#sk-container-id-1 {color: black;background-color: white;}#sk-container-id-1 pre{padding: 0;}#sk-container-id-1 div.sk-toggleable {background-color: white;}#sk-container-id-1 label.sk-toggleable__label {cursor: pointer;display: block;width: 100%;margin-bottom: 0;padding: 0.3em;box-sizing: border-box;text-align: center;}#sk-container-id-1 label.sk-toggleable__label-arrow:before {content: \"▸\";float: left;margin-right: 0.25em;color: #696969;}#sk-container-id-1 label.sk-toggleable__label-arrow:hover:before {color: black;}#sk-container-id-1 div.sk-estimator:hover label.sk-toggleable__label-arrow:before {color: black;}#sk-container-id-1 div.sk-toggleable__content {max-height: 0;max-width: 0;overflow: hidden;text-align: left;background-color: #f0f8ff;}#sk-container-id-1 div.sk-toggleable__content pre {margin: 0.2em;color: black;border-radius: 0.25em;background-color: #f0f8ff;}#sk-container-id-1 input.sk-toggleable__control:checked~div.sk-toggleable__content {max-height: 200px;max-width: 100%;overflow: auto;}#sk-container-id-1 input.sk-toggleable__control:checked~label.sk-toggleable__label-arrow:before {content: \"▾\";}#sk-container-id-1 div.sk-estimator input.sk-toggleable__control:checked~label.sk-toggleable__label {background-color: #d4ebff;}#sk-container-id-1 div.sk-label input.sk-toggleable__control:checked~label.sk-toggleable__label {background-color: #d4ebff;}#sk-container-id-1 input.sk-hidden--visually {border: 0;clip: rect(1px 1px 1px 1px);clip: rect(1px, 1px, 1px, 1px);height: 1px;margin: -1px;overflow: hidden;padding: 0;position: absolute;width: 1px;}#sk-container-id-1 div.sk-estimator {font-family: monospace;background-color: #f0f8ff;border: 1px dotted black;border-radius: 0.25em;box-sizing: border-box;margin-bottom: 0.5em;}#sk-container-id-1 div.sk-estimator:hover {background-color: #d4ebff;}#sk-container-id-1 div.sk-parallel-item::after {content: \"\";width: 100%;border-bottom: 1px solid gray;flex-grow: 1;}#sk-container-id-1 div.sk-label:hover label.sk-toggleable__label {background-color: #d4ebff;}#sk-container-id-1 div.sk-serial::before {content: \"\";position: absolute;border-left: 1px solid gray;box-sizing: border-box;top: 0;bottom: 0;left: 50%;z-index: 0;}#sk-container-id-1 div.sk-serial {display: flex;flex-direction: column;align-items: center;background-color: white;padding-right: 0.2em;padding-left: 0.2em;position: relative;}#sk-container-id-1 div.sk-item {position: relative;z-index: 1;}#sk-container-id-1 div.sk-parallel {display: flex;align-items: stretch;justify-content: center;background-color: white;position: relative;}#sk-container-id-1 div.sk-item::before, #sk-container-id-1 div.sk-parallel-item::before {content: \"\";position: absolute;border-left: 1px solid gray;box-sizing: border-box;top: 0;bottom: 0;left: 50%;z-index: -1;}#sk-container-id-1 div.sk-parallel-item {display: flex;flex-direction: column;z-index: 1;position: relative;background-color: white;}#sk-container-id-1 div.sk-parallel-item:first-child::after {align-self: flex-end;width: 50%;}#sk-container-id-1 div.sk-parallel-item:last-child::after {align-self: flex-start;width: 50%;}#sk-container-id-1 div.sk-parallel-item:only-child::after {width: 0;}#sk-container-id-1 div.sk-dashed-wrapped {border: 1px dashed gray;margin: 0 0.4em 0.5em 0.4em;box-sizing: border-box;padding-bottom: 0.4em;background-color: white;}#sk-container-id-1 div.sk-label label {font-family: monospace;font-weight: bold;display: inline-block;line-height: 1.2em;}#sk-container-id-1 div.sk-label-container {text-align: center;}#sk-container-id-1 div.sk-container {/* jupyter's `normalize.less` sets `[hidden] { display: none; }` but bootstrap.min.css set `[hidden] { display: none !important; }` so we also need the `!important` here to be able to override the default hidden behavior on the sphinx rendered scikit-learn.org. See: https://github.com/scikit-learn/scikit-learn/issues/21755 */display: inline-block !important;position: relative;}#sk-container-id-1 div.sk-text-repr-fallback {display: none;}</style><div id=\"sk-container-id-1\" class=\"sk-top-container\"><div class=\"sk-text-repr-fallback\"><pre>OneHotEncoder(handle_unknown=&#x27;ignore&#x27;)</pre><b>In a Jupyter environment, please rerun this cell to show the HTML representation or trust the notebook. <br />On GitHub, the HTML representation is unable to render, please try loading this page with nbviewer.org.</b></div><div class=\"sk-container\" hidden><div class=\"sk-item\"><div class=\"sk-estimator sk-toggleable\"><input class=\"sk-toggleable__control sk-hidden--visually\" id=\"sk-estimator-id-1\" type=\"checkbox\" checked><label for=\"sk-estimator-id-1\" class=\"sk-toggleable__label sk-toggleable__label-arrow\">OneHotEncoder</label><div class=\"sk-toggleable__content\"><pre>OneHotEncoder(handle_unknown=&#x27;ignore&#x27;)</pre></div></div></div></div></div>"
      ],
      "text/plain": [
       "OneHotEncoder(handle_unknown='ignore')"
      ]
     },
     "execution_count": 126,
     "metadata": {},
     "output_type": "execute_result"
    }
   ],
   "source": [
    "OHE = OneHotEncoder(handle_unknown = 'ignore')\n",
    "OHE.fit(cat_features)"
   ]
  },
  {
   "cell_type": "code",
   "execution_count": 128,
   "id": "c59133fc-e938-483e-81a9-d578c3a1fa86",
   "metadata": {},
   "outputs": [
    {
     "data": {
      "text/plain": [
       "array(['Item_Identifier_DRA12', 'Item_Identifier_DRA24',\n",
       "       'Item_Identifier_DRA59', ..., 'item_type_Drink', 'item_type_Food',\n",
       "       'item_type_Non Consumable'], dtype=object)"
      ]
     },
     "execution_count": 128,
     "metadata": {},
     "output_type": "execute_result"
    }
   ],
   "source": [
    "OHE_features = OHE.get_feature_names_out( input_features = cat_features.columns)\n",
    "OHE_features"
   ]
  },
  {
   "cell_type": "code",
   "execution_count": 130,
   "id": "7e732a7a-71e8-41a4-be98-109a0fc93665",
   "metadata": {},
   "outputs": [
    {
     "data": {
      "text/html": [
       "<div>\n",
       "<style scoped>\n",
       "    .dataframe tbody tr th:only-of-type {\n",
       "        vertical-align: middle;\n",
       "    }\n",
       "\n",
       "    .dataframe tbody tr th {\n",
       "        vertical-align: top;\n",
       "    }\n",
       "\n",
       "    .dataframe thead th {\n",
       "        text-align: right;\n",
       "    }\n",
       "</style>\n",
       "<table border=\"1\" class=\"dataframe\">\n",
       "  <thead>\n",
       "    <tr style=\"text-align: right;\">\n",
       "      <th></th>\n",
       "      <th>Item_Weight</th>\n",
       "      <th>Item_Visibility</th>\n",
       "      <th>Item_MRP</th>\n",
       "      <th>Outlet_Establishment_Year</th>\n",
       "    </tr>\n",
       "  </thead>\n",
       "  <tbody>\n",
       "    <tr>\n",
       "      <th>0</th>\n",
       "      <td>19.100</td>\n",
       "      <td>0.066970</td>\n",
       "      <td>39.2796</td>\n",
       "      <td>1985</td>\n",
       "    </tr>\n",
       "    <tr>\n",
       "      <th>1</th>\n",
       "      <td>16.850</td>\n",
       "      <td>0.036596</td>\n",
       "      <td>90.6488</td>\n",
       "      <td>2007</td>\n",
       "    </tr>\n",
       "    <tr>\n",
       "      <th>2</th>\n",
       "      <td>11.300</td>\n",
       "      <td>0.007274</td>\n",
       "      <td>196.6426</td>\n",
       "      <td>1987</td>\n",
       "    </tr>\n",
       "    <tr>\n",
       "      <th>3</th>\n",
       "      <td>19.700</td>\n",
       "      <td>0.064909</td>\n",
       "      <td>88.5198</td>\n",
       "      <td>2004</td>\n",
       "    </tr>\n",
       "    <tr>\n",
       "      <th>4</th>\n",
       "      <td>17.350</td>\n",
       "      <td>0.000000</td>\n",
       "      <td>102.9016</td>\n",
       "      <td>1997</td>\n",
       "    </tr>\n",
       "    <tr>\n",
       "      <th>...</th>\n",
       "      <td>...</td>\n",
       "      <td>...</td>\n",
       "      <td>...</td>\n",
       "      <td>...</td>\n",
       "    </tr>\n",
       "    <tr>\n",
       "      <th>5961</th>\n",
       "      <td>11.600</td>\n",
       "      <td>0.037574</td>\n",
       "      <td>100.0042</td>\n",
       "      <td>2004</td>\n",
       "    </tr>\n",
       "    <tr>\n",
       "      <th>5962</th>\n",
       "      <td>7.405</td>\n",
       "      <td>0.015334</td>\n",
       "      <td>92.7146</td>\n",
       "      <td>2009</td>\n",
       "    </tr>\n",
       "    <tr>\n",
       "      <th>5963</th>\n",
       "      <td>10.000</td>\n",
       "      <td>0.089078</td>\n",
       "      <td>147.1102</td>\n",
       "      <td>1987</td>\n",
       "    </tr>\n",
       "    <tr>\n",
       "      <th>5964</th>\n",
       "      <td>13.350</td>\n",
       "      <td>0.048027</td>\n",
       "      <td>218.9166</td>\n",
       "      <td>1997</td>\n",
       "    </tr>\n",
       "    <tr>\n",
       "      <th>5965</th>\n",
       "      <td>7.090</td>\n",
       "      <td>0.007215</td>\n",
       "      <td>47.6034</td>\n",
       "      <td>1997</td>\n",
       "    </tr>\n",
       "  </tbody>\n",
       "</table>\n",
       "<p>5966 rows × 4 columns</p>\n",
       "</div>"
      ],
      "text/plain": [
       "      Item_Weight  Item_Visibility  Item_MRP  Outlet_Establishment_Year\n",
       "0          19.100         0.066970   39.2796                       1985\n",
       "1          16.850         0.036596   90.6488                       2007\n",
       "2          11.300         0.007274  196.6426                       1987\n",
       "3          19.700         0.064909   88.5198                       2004\n",
       "4          17.350         0.000000  102.9016                       1997\n",
       "...           ...              ...       ...                        ...\n",
       "5961       11.600         0.037574  100.0042                       2004\n",
       "5962        7.405         0.015334   92.7146                       2009\n",
       "5963       10.000         0.089078  147.1102                       1987\n",
       "5964       13.350         0.048027  218.9166                       1997\n",
       "5965        7.090         0.007215   47.6034                       1997\n",
       "\n",
       "[5966 rows x 4 columns]"
      ]
     },
     "execution_count": 130,
     "metadata": {},
     "output_type": "execute_result"
    }
   ],
   "source": [
    "num_features = x_train.select_dtypes(exclude = ['object']).reset_index(drop= True)\n",
    "num_features"
   ]
  },
  {
   "cell_type": "code",
   "execution_count": 132,
   "id": "a1e4698d-25ab-4b5d-a62a-4796a4e59d42",
   "metadata": {},
   "outputs": [
    {
     "data": {
      "text/html": [
       "<div>\n",
       "<style scoped>\n",
       "    .dataframe tbody tr th:only-of-type {\n",
       "        vertical-align: middle;\n",
       "    }\n",
       "\n",
       "    .dataframe tbody tr th {\n",
       "        vertical-align: top;\n",
       "    }\n",
       "\n",
       "    .dataframe thead th {\n",
       "        text-align: right;\n",
       "    }\n",
       "</style>\n",
       "<table border=\"1\" class=\"dataframe\">\n",
       "  <thead>\n",
       "    <tr style=\"text-align: right;\">\n",
       "      <th></th>\n",
       "      <th>Item_Identifier_DRA12</th>\n",
       "      <th>Item_Identifier_DRA24</th>\n",
       "      <th>Item_Identifier_DRA59</th>\n",
       "      <th>Item_Identifier_DRB01</th>\n",
       "      <th>Item_Identifier_DRB13</th>\n",
       "      <th>Item_Identifier_DRB24</th>\n",
       "      <th>Item_Identifier_DRB25</th>\n",
       "      <th>Item_Identifier_DRB48</th>\n",
       "      <th>Item_Identifier_DRC01</th>\n",
       "      <th>Item_Identifier_DRC12</th>\n",
       "      <th>...</th>\n",
       "      <th>Outlet_Location_Type_Tier 1</th>\n",
       "      <th>Outlet_Location_Type_Tier 2</th>\n",
       "      <th>Outlet_Location_Type_Tier 3</th>\n",
       "      <th>Outlet_Type_Grocery Store</th>\n",
       "      <th>Outlet_Type_Supermarket Type1</th>\n",
       "      <th>Outlet_Type_Supermarket Type2</th>\n",
       "      <th>Outlet_Type_Supermarket Type3</th>\n",
       "      <th>item_type_Drink</th>\n",
       "      <th>item_type_Food</th>\n",
       "      <th>item_type_Non Consumable</th>\n",
       "    </tr>\n",
       "  </thead>\n",
       "  <tbody>\n",
       "    <tr>\n",
       "      <th>0</th>\n",
       "      <td>0.0</td>\n",
       "      <td>0.0</td>\n",
       "      <td>0.0</td>\n",
       "      <td>0.0</td>\n",
       "      <td>0.0</td>\n",
       "      <td>0.0</td>\n",
       "      <td>0.0</td>\n",
       "      <td>0.0</td>\n",
       "      <td>0.0</td>\n",
       "      <td>0.0</td>\n",
       "      <td>...</td>\n",
       "      <td>0.0</td>\n",
       "      <td>0.0</td>\n",
       "      <td>1.0</td>\n",
       "      <td>0.0</td>\n",
       "      <td>0.0</td>\n",
       "      <td>0.0</td>\n",
       "      <td>1.0</td>\n",
       "      <td>0.0</td>\n",
       "      <td>0.0</td>\n",
       "      <td>1.0</td>\n",
       "    </tr>\n",
       "    <tr>\n",
       "      <th>1</th>\n",
       "      <td>0.0</td>\n",
       "      <td>0.0</td>\n",
       "      <td>0.0</td>\n",
       "      <td>0.0</td>\n",
       "      <td>0.0</td>\n",
       "      <td>0.0</td>\n",
       "      <td>0.0</td>\n",
       "      <td>0.0</td>\n",
       "      <td>0.0</td>\n",
       "      <td>0.0</td>\n",
       "      <td>...</td>\n",
       "      <td>0.0</td>\n",
       "      <td>1.0</td>\n",
       "      <td>0.0</td>\n",
       "      <td>0.0</td>\n",
       "      <td>1.0</td>\n",
       "      <td>0.0</td>\n",
       "      <td>0.0</td>\n",
       "      <td>0.0</td>\n",
       "      <td>1.0</td>\n",
       "      <td>0.0</td>\n",
       "    </tr>\n",
       "    <tr>\n",
       "      <th>2</th>\n",
       "      <td>0.0</td>\n",
       "      <td>0.0</td>\n",
       "      <td>0.0</td>\n",
       "      <td>0.0</td>\n",
       "      <td>0.0</td>\n",
       "      <td>0.0</td>\n",
       "      <td>0.0</td>\n",
       "      <td>0.0</td>\n",
       "      <td>0.0</td>\n",
       "      <td>0.0</td>\n",
       "      <td>...</td>\n",
       "      <td>0.0</td>\n",
       "      <td>0.0</td>\n",
       "      <td>1.0</td>\n",
       "      <td>0.0</td>\n",
       "      <td>1.0</td>\n",
       "      <td>0.0</td>\n",
       "      <td>0.0</td>\n",
       "      <td>0.0</td>\n",
       "      <td>1.0</td>\n",
       "      <td>0.0</td>\n",
       "    </tr>\n",
       "    <tr>\n",
       "      <th>3</th>\n",
       "      <td>0.0</td>\n",
       "      <td>0.0</td>\n",
       "      <td>0.0</td>\n",
       "      <td>0.0</td>\n",
       "      <td>0.0</td>\n",
       "      <td>0.0</td>\n",
       "      <td>0.0</td>\n",
       "      <td>0.0</td>\n",
       "      <td>0.0</td>\n",
       "      <td>0.0</td>\n",
       "      <td>...</td>\n",
       "      <td>0.0</td>\n",
       "      <td>1.0</td>\n",
       "      <td>0.0</td>\n",
       "      <td>0.0</td>\n",
       "      <td>1.0</td>\n",
       "      <td>0.0</td>\n",
       "      <td>0.0</td>\n",
       "      <td>0.0</td>\n",
       "      <td>1.0</td>\n",
       "      <td>0.0</td>\n",
       "    </tr>\n",
       "    <tr>\n",
       "      <th>4</th>\n",
       "      <td>0.0</td>\n",
       "      <td>0.0</td>\n",
       "      <td>0.0</td>\n",
       "      <td>0.0</td>\n",
       "      <td>0.0</td>\n",
       "      <td>0.0</td>\n",
       "      <td>0.0</td>\n",
       "      <td>0.0</td>\n",
       "      <td>0.0</td>\n",
       "      <td>0.0</td>\n",
       "      <td>...</td>\n",
       "      <td>1.0</td>\n",
       "      <td>0.0</td>\n",
       "      <td>0.0</td>\n",
       "      <td>0.0</td>\n",
       "      <td>1.0</td>\n",
       "      <td>0.0</td>\n",
       "      <td>0.0</td>\n",
       "      <td>0.0</td>\n",
       "      <td>1.0</td>\n",
       "      <td>0.0</td>\n",
       "    </tr>\n",
       "  </tbody>\n",
       "</table>\n",
       "<p>5 rows × 1588 columns</p>\n",
       "</div>"
      ],
      "text/plain": [
       "   Item_Identifier_DRA12  Item_Identifier_DRA24  Item_Identifier_DRA59  \\\n",
       "0                    0.0                    0.0                    0.0   \n",
       "1                    0.0                    0.0                    0.0   \n",
       "2                    0.0                    0.0                    0.0   \n",
       "3                    0.0                    0.0                    0.0   \n",
       "4                    0.0                    0.0                    0.0   \n",
       "\n",
       "   Item_Identifier_DRB01  Item_Identifier_DRB13  Item_Identifier_DRB24  \\\n",
       "0                    0.0                    0.0                    0.0   \n",
       "1                    0.0                    0.0                    0.0   \n",
       "2                    0.0                    0.0                    0.0   \n",
       "3                    0.0                    0.0                    0.0   \n",
       "4                    0.0                    0.0                    0.0   \n",
       "\n",
       "   Item_Identifier_DRB25  Item_Identifier_DRB48  Item_Identifier_DRC01  \\\n",
       "0                    0.0                    0.0                    0.0   \n",
       "1                    0.0                    0.0                    0.0   \n",
       "2                    0.0                    0.0                    0.0   \n",
       "3                    0.0                    0.0                    0.0   \n",
       "4                    0.0                    0.0                    0.0   \n",
       "\n",
       "   Item_Identifier_DRC12  ...  Outlet_Location_Type_Tier 1  \\\n",
       "0                    0.0  ...                          0.0   \n",
       "1                    0.0  ...                          0.0   \n",
       "2                    0.0  ...                          0.0   \n",
       "3                    0.0  ...                          0.0   \n",
       "4                    0.0  ...                          1.0   \n",
       "\n",
       "   Outlet_Location_Type_Tier 2  Outlet_Location_Type_Tier 3  \\\n",
       "0                          0.0                          1.0   \n",
       "1                          1.0                          0.0   \n",
       "2                          0.0                          1.0   \n",
       "3                          1.0                          0.0   \n",
       "4                          0.0                          0.0   \n",
       "\n",
       "   Outlet_Type_Grocery Store  Outlet_Type_Supermarket Type1  \\\n",
       "0                        0.0                            0.0   \n",
       "1                        0.0                            1.0   \n",
       "2                        0.0                            1.0   \n",
       "3                        0.0                            1.0   \n",
       "4                        0.0                            1.0   \n",
       "\n",
       "   Outlet_Type_Supermarket Type2  Outlet_Type_Supermarket Type3  \\\n",
       "0                            0.0                            1.0   \n",
       "1                            0.0                            0.0   \n",
       "2                            0.0                            0.0   \n",
       "3                            0.0                            0.0   \n",
       "4                            0.0                            0.0   \n",
       "\n",
       "   item_type_Drink  item_type_Food  item_type_Non Consumable  \n",
       "0              0.0             0.0                       1.0  \n",
       "1              0.0             1.0                       0.0  \n",
       "2              0.0             1.0                       0.0  \n",
       "3              0.0             1.0                       0.0  \n",
       "4              0.0             1.0                       0.0  \n",
       "\n",
       "[5 rows x 1588 columns]"
      ]
     },
     "execution_count": 132,
     "metadata": {},
     "output_type": "execute_result"
    }
   ],
   "source": [
    "cat_features_train = x_train.select_dtypes(include=['object'])\n",
    "x_train_cat_ohe = pd.DataFrame(OHE.transform(cat_features_train).toarray(), columns=OHE_features)\n",
    "x_train_cat_ohe.head()"
   ]
  },
  {
   "cell_type": "code",
   "execution_count": 134,
   "id": "1b9523e2-c36d-41bc-8670-c864fcf2f57f",
   "metadata": {},
   "outputs": [
    {
     "data": {
      "text/html": [
       "<div>\n",
       "<style scoped>\n",
       "    .dataframe tbody tr th:only-of-type {\n",
       "        vertical-align: middle;\n",
       "    }\n",
       "\n",
       "    .dataframe tbody tr th {\n",
       "        vertical-align: top;\n",
       "    }\n",
       "\n",
       "    .dataframe thead th {\n",
       "        text-align: right;\n",
       "    }\n",
       "</style>\n",
       "<table border=\"1\" class=\"dataframe\">\n",
       "  <thead>\n",
       "    <tr style=\"text-align: right;\">\n",
       "      <th></th>\n",
       "      <th>Item_Weight</th>\n",
       "      <th>Item_Visibility</th>\n",
       "      <th>Item_MRP</th>\n",
       "      <th>Outlet_Establishment_Year</th>\n",
       "      <th>Item_Identifier_DRA12</th>\n",
       "      <th>Item_Identifier_DRA24</th>\n",
       "      <th>Item_Identifier_DRA59</th>\n",
       "      <th>Item_Identifier_DRB01</th>\n",
       "      <th>Item_Identifier_DRB13</th>\n",
       "      <th>Item_Identifier_DRB24</th>\n",
       "      <th>...</th>\n",
       "      <th>Outlet_Location_Type_Tier 1</th>\n",
       "      <th>Outlet_Location_Type_Tier 2</th>\n",
       "      <th>Outlet_Location_Type_Tier 3</th>\n",
       "      <th>Outlet_Type_Grocery Store</th>\n",
       "      <th>Outlet_Type_Supermarket Type1</th>\n",
       "      <th>Outlet_Type_Supermarket Type2</th>\n",
       "      <th>Outlet_Type_Supermarket Type3</th>\n",
       "      <th>item_type_Drink</th>\n",
       "      <th>item_type_Food</th>\n",
       "      <th>item_type_Non Consumable</th>\n",
       "    </tr>\n",
       "  </thead>\n",
       "  <tbody>\n",
       "    <tr>\n",
       "      <th>0</th>\n",
       "      <td>19.100</td>\n",
       "      <td>0.066970</td>\n",
       "      <td>39.2796</td>\n",
       "      <td>1985</td>\n",
       "      <td>0.0</td>\n",
       "      <td>0.0</td>\n",
       "      <td>0.0</td>\n",
       "      <td>0.0</td>\n",
       "      <td>0.0</td>\n",
       "      <td>0.0</td>\n",
       "      <td>...</td>\n",
       "      <td>0.0</td>\n",
       "      <td>0.0</td>\n",
       "      <td>1.0</td>\n",
       "      <td>0.0</td>\n",
       "      <td>0.0</td>\n",
       "      <td>0.0</td>\n",
       "      <td>1.0</td>\n",
       "      <td>0.0</td>\n",
       "      <td>0.0</td>\n",
       "      <td>1.0</td>\n",
       "    </tr>\n",
       "    <tr>\n",
       "      <th>1</th>\n",
       "      <td>16.850</td>\n",
       "      <td>0.036596</td>\n",
       "      <td>90.6488</td>\n",
       "      <td>2007</td>\n",
       "      <td>0.0</td>\n",
       "      <td>0.0</td>\n",
       "      <td>0.0</td>\n",
       "      <td>0.0</td>\n",
       "      <td>0.0</td>\n",
       "      <td>0.0</td>\n",
       "      <td>...</td>\n",
       "      <td>0.0</td>\n",
       "      <td>1.0</td>\n",
       "      <td>0.0</td>\n",
       "      <td>0.0</td>\n",
       "      <td>1.0</td>\n",
       "      <td>0.0</td>\n",
       "      <td>0.0</td>\n",
       "      <td>0.0</td>\n",
       "      <td>1.0</td>\n",
       "      <td>0.0</td>\n",
       "    </tr>\n",
       "    <tr>\n",
       "      <th>2</th>\n",
       "      <td>11.300</td>\n",
       "      <td>0.007274</td>\n",
       "      <td>196.6426</td>\n",
       "      <td>1987</td>\n",
       "      <td>0.0</td>\n",
       "      <td>0.0</td>\n",
       "      <td>0.0</td>\n",
       "      <td>0.0</td>\n",
       "      <td>0.0</td>\n",
       "      <td>0.0</td>\n",
       "      <td>...</td>\n",
       "      <td>0.0</td>\n",
       "      <td>0.0</td>\n",
       "      <td>1.0</td>\n",
       "      <td>0.0</td>\n",
       "      <td>1.0</td>\n",
       "      <td>0.0</td>\n",
       "      <td>0.0</td>\n",
       "      <td>0.0</td>\n",
       "      <td>1.0</td>\n",
       "      <td>0.0</td>\n",
       "    </tr>\n",
       "    <tr>\n",
       "      <th>3</th>\n",
       "      <td>19.700</td>\n",
       "      <td>0.064909</td>\n",
       "      <td>88.5198</td>\n",
       "      <td>2004</td>\n",
       "      <td>0.0</td>\n",
       "      <td>0.0</td>\n",
       "      <td>0.0</td>\n",
       "      <td>0.0</td>\n",
       "      <td>0.0</td>\n",
       "      <td>0.0</td>\n",
       "      <td>...</td>\n",
       "      <td>0.0</td>\n",
       "      <td>1.0</td>\n",
       "      <td>0.0</td>\n",
       "      <td>0.0</td>\n",
       "      <td>1.0</td>\n",
       "      <td>0.0</td>\n",
       "      <td>0.0</td>\n",
       "      <td>0.0</td>\n",
       "      <td>1.0</td>\n",
       "      <td>0.0</td>\n",
       "    </tr>\n",
       "    <tr>\n",
       "      <th>4</th>\n",
       "      <td>17.350</td>\n",
       "      <td>0.000000</td>\n",
       "      <td>102.9016</td>\n",
       "      <td>1997</td>\n",
       "      <td>0.0</td>\n",
       "      <td>0.0</td>\n",
       "      <td>0.0</td>\n",
       "      <td>0.0</td>\n",
       "      <td>0.0</td>\n",
       "      <td>0.0</td>\n",
       "      <td>...</td>\n",
       "      <td>1.0</td>\n",
       "      <td>0.0</td>\n",
       "      <td>0.0</td>\n",
       "      <td>0.0</td>\n",
       "      <td>1.0</td>\n",
       "      <td>0.0</td>\n",
       "      <td>0.0</td>\n",
       "      <td>0.0</td>\n",
       "      <td>1.0</td>\n",
       "      <td>0.0</td>\n",
       "    </tr>\n",
       "    <tr>\n",
       "      <th>...</th>\n",
       "      <td>...</td>\n",
       "      <td>...</td>\n",
       "      <td>...</td>\n",
       "      <td>...</td>\n",
       "      <td>...</td>\n",
       "      <td>...</td>\n",
       "      <td>...</td>\n",
       "      <td>...</td>\n",
       "      <td>...</td>\n",
       "      <td>...</td>\n",
       "      <td>...</td>\n",
       "      <td>...</td>\n",
       "      <td>...</td>\n",
       "      <td>...</td>\n",
       "      <td>...</td>\n",
       "      <td>...</td>\n",
       "      <td>...</td>\n",
       "      <td>...</td>\n",
       "      <td>...</td>\n",
       "      <td>...</td>\n",
       "      <td>...</td>\n",
       "    </tr>\n",
       "    <tr>\n",
       "      <th>5961</th>\n",
       "      <td>11.600</td>\n",
       "      <td>0.037574</td>\n",
       "      <td>100.0042</td>\n",
       "      <td>2004</td>\n",
       "      <td>0.0</td>\n",
       "      <td>0.0</td>\n",
       "      <td>0.0</td>\n",
       "      <td>0.0</td>\n",
       "      <td>0.0</td>\n",
       "      <td>0.0</td>\n",
       "      <td>...</td>\n",
       "      <td>0.0</td>\n",
       "      <td>1.0</td>\n",
       "      <td>0.0</td>\n",
       "      <td>0.0</td>\n",
       "      <td>1.0</td>\n",
       "      <td>0.0</td>\n",
       "      <td>0.0</td>\n",
       "      <td>0.0</td>\n",
       "      <td>0.0</td>\n",
       "      <td>1.0</td>\n",
       "    </tr>\n",
       "    <tr>\n",
       "      <th>5962</th>\n",
       "      <td>7.405</td>\n",
       "      <td>0.015334</td>\n",
       "      <td>92.7146</td>\n",
       "      <td>2009</td>\n",
       "      <td>0.0</td>\n",
       "      <td>0.0</td>\n",
       "      <td>0.0</td>\n",
       "      <td>0.0</td>\n",
       "      <td>0.0</td>\n",
       "      <td>0.0</td>\n",
       "      <td>...</td>\n",
       "      <td>0.0</td>\n",
       "      <td>0.0</td>\n",
       "      <td>1.0</td>\n",
       "      <td>0.0</td>\n",
       "      <td>0.0</td>\n",
       "      <td>1.0</td>\n",
       "      <td>0.0</td>\n",
       "      <td>0.0</td>\n",
       "      <td>1.0</td>\n",
       "      <td>0.0</td>\n",
       "    </tr>\n",
       "    <tr>\n",
       "      <th>5963</th>\n",
       "      <td>10.000</td>\n",
       "      <td>0.089078</td>\n",
       "      <td>147.1102</td>\n",
       "      <td>1987</td>\n",
       "      <td>0.0</td>\n",
       "      <td>0.0</td>\n",
       "      <td>0.0</td>\n",
       "      <td>0.0</td>\n",
       "      <td>0.0</td>\n",
       "      <td>0.0</td>\n",
       "      <td>...</td>\n",
       "      <td>0.0</td>\n",
       "      <td>0.0</td>\n",
       "      <td>1.0</td>\n",
       "      <td>0.0</td>\n",
       "      <td>1.0</td>\n",
       "      <td>0.0</td>\n",
       "      <td>0.0</td>\n",
       "      <td>0.0</td>\n",
       "      <td>0.0</td>\n",
       "      <td>1.0</td>\n",
       "    </tr>\n",
       "    <tr>\n",
       "      <th>5964</th>\n",
       "      <td>13.350</td>\n",
       "      <td>0.048027</td>\n",
       "      <td>218.9166</td>\n",
       "      <td>1997</td>\n",
       "      <td>0.0</td>\n",
       "      <td>0.0</td>\n",
       "      <td>0.0</td>\n",
       "      <td>0.0</td>\n",
       "      <td>0.0</td>\n",
       "      <td>0.0</td>\n",
       "      <td>...</td>\n",
       "      <td>1.0</td>\n",
       "      <td>0.0</td>\n",
       "      <td>0.0</td>\n",
       "      <td>0.0</td>\n",
       "      <td>1.0</td>\n",
       "      <td>0.0</td>\n",
       "      <td>0.0</td>\n",
       "      <td>0.0</td>\n",
       "      <td>1.0</td>\n",
       "      <td>0.0</td>\n",
       "    </tr>\n",
       "    <tr>\n",
       "      <th>5965</th>\n",
       "      <td>7.090</td>\n",
       "      <td>0.007215</td>\n",
       "      <td>47.6034</td>\n",
       "      <td>1997</td>\n",
       "      <td>0.0</td>\n",
       "      <td>0.0</td>\n",
       "      <td>0.0</td>\n",
       "      <td>0.0</td>\n",
       "      <td>0.0</td>\n",
       "      <td>0.0</td>\n",
       "      <td>...</td>\n",
       "      <td>1.0</td>\n",
       "      <td>0.0</td>\n",
       "      <td>0.0</td>\n",
       "      <td>0.0</td>\n",
       "      <td>1.0</td>\n",
       "      <td>0.0</td>\n",
       "      <td>0.0</td>\n",
       "      <td>0.0</td>\n",
       "      <td>1.0</td>\n",
       "      <td>0.0</td>\n",
       "    </tr>\n",
       "  </tbody>\n",
       "</table>\n",
       "<p>5966 rows × 1592 columns</p>\n",
       "</div>"
      ],
      "text/plain": [
       "      Item_Weight  Item_Visibility  Item_MRP  Outlet_Establishment_Year  \\\n",
       "0          19.100         0.066970   39.2796                       1985   \n",
       "1          16.850         0.036596   90.6488                       2007   \n",
       "2          11.300         0.007274  196.6426                       1987   \n",
       "3          19.700         0.064909   88.5198                       2004   \n",
       "4          17.350         0.000000  102.9016                       1997   \n",
       "...           ...              ...       ...                        ...   \n",
       "5961       11.600         0.037574  100.0042                       2004   \n",
       "5962        7.405         0.015334   92.7146                       2009   \n",
       "5963       10.000         0.089078  147.1102                       1987   \n",
       "5964       13.350         0.048027  218.9166                       1997   \n",
       "5965        7.090         0.007215   47.6034                       1997   \n",
       "\n",
       "      Item_Identifier_DRA12  Item_Identifier_DRA24  Item_Identifier_DRA59  \\\n",
       "0                       0.0                    0.0                    0.0   \n",
       "1                       0.0                    0.0                    0.0   \n",
       "2                       0.0                    0.0                    0.0   \n",
       "3                       0.0                    0.0                    0.0   \n",
       "4                       0.0                    0.0                    0.0   \n",
       "...                     ...                    ...                    ...   \n",
       "5961                    0.0                    0.0                    0.0   \n",
       "5962                    0.0                    0.0                    0.0   \n",
       "5963                    0.0                    0.0                    0.0   \n",
       "5964                    0.0                    0.0                    0.0   \n",
       "5965                    0.0                    0.0                    0.0   \n",
       "\n",
       "      Item_Identifier_DRB01  Item_Identifier_DRB13  Item_Identifier_DRB24  \\\n",
       "0                       0.0                    0.0                    0.0   \n",
       "1                       0.0                    0.0                    0.0   \n",
       "2                       0.0                    0.0                    0.0   \n",
       "3                       0.0                    0.0                    0.0   \n",
       "4                       0.0                    0.0                    0.0   \n",
       "...                     ...                    ...                    ...   \n",
       "5961                    0.0                    0.0                    0.0   \n",
       "5962                    0.0                    0.0                    0.0   \n",
       "5963                    0.0                    0.0                    0.0   \n",
       "5964                    0.0                    0.0                    0.0   \n",
       "5965                    0.0                    0.0                    0.0   \n",
       "\n",
       "      ...  Outlet_Location_Type_Tier 1  Outlet_Location_Type_Tier 2  \\\n",
       "0     ...                          0.0                          0.0   \n",
       "1     ...                          0.0                          1.0   \n",
       "2     ...                          0.0                          0.0   \n",
       "3     ...                          0.0                          1.0   \n",
       "4     ...                          1.0                          0.0   \n",
       "...   ...                          ...                          ...   \n",
       "5961  ...                          0.0                          1.0   \n",
       "5962  ...                          0.0                          0.0   \n",
       "5963  ...                          0.0                          0.0   \n",
       "5964  ...                          1.0                          0.0   \n",
       "5965  ...                          1.0                          0.0   \n",
       "\n",
       "      Outlet_Location_Type_Tier 3  Outlet_Type_Grocery Store  \\\n",
       "0                             1.0                        0.0   \n",
       "1                             0.0                        0.0   \n",
       "2                             1.0                        0.0   \n",
       "3                             0.0                        0.0   \n",
       "4                             0.0                        0.0   \n",
       "...                           ...                        ...   \n",
       "5961                          0.0                        0.0   \n",
       "5962                          1.0                        0.0   \n",
       "5963                          1.0                        0.0   \n",
       "5964                          0.0                        0.0   \n",
       "5965                          0.0                        0.0   \n",
       "\n",
       "      Outlet_Type_Supermarket Type1  Outlet_Type_Supermarket Type2  \\\n",
       "0                               0.0                            0.0   \n",
       "1                               1.0                            0.0   \n",
       "2                               1.0                            0.0   \n",
       "3                               1.0                            0.0   \n",
       "4                               1.0                            0.0   \n",
       "...                             ...                            ...   \n",
       "5961                            1.0                            0.0   \n",
       "5962                            0.0                            1.0   \n",
       "5963                            1.0                            0.0   \n",
       "5964                            1.0                            0.0   \n",
       "5965                            1.0                            0.0   \n",
       "\n",
       "      Outlet_Type_Supermarket Type3  item_type_Drink  item_type_Food  \\\n",
       "0                               1.0              0.0             0.0   \n",
       "1                               0.0              0.0             1.0   \n",
       "2                               0.0              0.0             1.0   \n",
       "3                               0.0              0.0             1.0   \n",
       "4                               0.0              0.0             1.0   \n",
       "...                             ...              ...             ...   \n",
       "5961                            0.0              0.0             0.0   \n",
       "5962                            0.0              0.0             1.0   \n",
       "5963                            0.0              0.0             0.0   \n",
       "5964                            0.0              0.0             1.0   \n",
       "5965                            0.0              0.0             1.0   \n",
       "\n",
       "      item_type_Non Consumable  \n",
       "0                          1.0  \n",
       "1                          0.0  \n",
       "2                          0.0  \n",
       "3                          0.0  \n",
       "4                          0.0  \n",
       "...                        ...  \n",
       "5961                       1.0  \n",
       "5962                       0.0  \n",
       "5963                       1.0  \n",
       "5964                       0.0  \n",
       "5965                       0.0  \n",
       "\n",
       "[5966 rows x 1592 columns]"
      ]
     },
     "execution_count": 134,
     "metadata": {},
     "output_type": "execute_result"
    }
   ],
   "source": [
    "x_train_final = pd.concat([num_features , x_train_cat_ohe], axis = 1)\n",
    "x_train_final"
   ]
  },
  {
   "cell_type": "code",
   "execution_count": 135,
   "id": "1024d840-4c86-4050-ba5e-9d92483d7273",
   "metadata": {},
   "outputs": [
    {
     "data": {
      "text/plain": [
       "Index(['Item_Weight', 'Item_Visibility', 'Item_MRP',\n",
       "       'Outlet_Establishment_Year', 'Item_Identifier_DRA12',\n",
       "       'Item_Identifier_DRA24', 'Item_Identifier_DRA59',\n",
       "       'Item_Identifier_DRB01', 'Item_Identifier_DRB13',\n",
       "       'Item_Identifier_DRB24',\n",
       "       ...\n",
       "       'Outlet_Location_Type_Tier 1', 'Outlet_Location_Type_Tier 2',\n",
       "       'Outlet_Location_Type_Tier 3', 'Outlet_Type_Grocery Store',\n",
       "       'Outlet_Type_Supermarket Type1', 'Outlet_Type_Supermarket Type2',\n",
       "       'Outlet_Type_Supermarket Type3', 'item_type_Drink', 'item_type_Food',\n",
       "       'item_type_Non Consumable'],\n",
       "      dtype='object', length=1592)"
      ]
     },
     "execution_count": 135,
     "metadata": {},
     "output_type": "execute_result"
    }
   ],
   "source": [
    "final_columns = x_train_final.columns\n",
    "final_columns"
   ]
  },
  {
   "cell_type": "code",
   "execution_count": 137,
   "id": "e7c7a192-d7a7-4773-9872-a9695c496063",
   "metadata": {},
   "outputs": [
    {
     "data": {
      "text/html": [
       "<div>\n",
       "<style scoped>\n",
       "    .dataframe tbody tr th:only-of-type {\n",
       "        vertical-align: middle;\n",
       "    }\n",
       "\n",
       "    .dataframe tbody tr th {\n",
       "        vertical-align: top;\n",
       "    }\n",
       "\n",
       "    .dataframe thead th {\n",
       "        text-align: right;\n",
       "    }\n",
       "</style>\n",
       "<table border=\"1\" class=\"dataframe\">\n",
       "  <thead>\n",
       "    <tr style=\"text-align: right;\">\n",
       "      <th></th>\n",
       "      <th>Item_Weight</th>\n",
       "      <th>Item_Visibility</th>\n",
       "      <th>Item_MRP</th>\n",
       "      <th>Outlet_Establishment_Year</th>\n",
       "      <th>Item_Identifier_DRA12</th>\n",
       "      <th>Item_Identifier_DRA24</th>\n",
       "      <th>Item_Identifier_DRA59</th>\n",
       "      <th>Item_Identifier_DRB01</th>\n",
       "      <th>Item_Identifier_DRB13</th>\n",
       "      <th>Item_Identifier_DRB24</th>\n",
       "      <th>...</th>\n",
       "      <th>Outlet_Location_Type_Tier 1</th>\n",
       "      <th>Outlet_Location_Type_Tier 2</th>\n",
       "      <th>Outlet_Location_Type_Tier 3</th>\n",
       "      <th>Outlet_Type_Grocery Store</th>\n",
       "      <th>Outlet_Type_Supermarket Type1</th>\n",
       "      <th>Outlet_Type_Supermarket Type2</th>\n",
       "      <th>Outlet_Type_Supermarket Type3</th>\n",
       "      <th>item_type_Drink</th>\n",
       "      <th>item_type_Food</th>\n",
       "      <th>item_type_Non Consumable</th>\n",
       "    </tr>\n",
       "  </thead>\n",
       "  <tbody>\n",
       "    <tr>\n",
       "      <th>0</th>\n",
       "      <td>13.650</td>\n",
       "      <td>0.012752</td>\n",
       "      <td>55.5588</td>\n",
       "      <td>1997</td>\n",
       "      <td>0.0</td>\n",
       "      <td>0.0</td>\n",
       "      <td>0.0</td>\n",
       "      <td>0.0</td>\n",
       "      <td>0.0</td>\n",
       "      <td>0.0</td>\n",
       "      <td>...</td>\n",
       "      <td>1.0</td>\n",
       "      <td>0.0</td>\n",
       "      <td>0.0</td>\n",
       "      <td>0.0</td>\n",
       "      <td>1.0</td>\n",
       "      <td>0.0</td>\n",
       "      <td>0.0</td>\n",
       "      <td>0.0</td>\n",
       "      <td>1.0</td>\n",
       "      <td>0.0</td>\n",
       "    </tr>\n",
       "    <tr>\n",
       "      <th>1</th>\n",
       "      <td>16.750</td>\n",
       "      <td>0.032653</td>\n",
       "      <td>190.8162</td>\n",
       "      <td>2002</td>\n",
       "      <td>0.0</td>\n",
       "      <td>0.0</td>\n",
       "      <td>0.0</td>\n",
       "      <td>0.0</td>\n",
       "      <td>0.0</td>\n",
       "      <td>0.0</td>\n",
       "      <td>...</td>\n",
       "      <td>0.0</td>\n",
       "      <td>1.0</td>\n",
       "      <td>0.0</td>\n",
       "      <td>0.0</td>\n",
       "      <td>1.0</td>\n",
       "      <td>0.0</td>\n",
       "      <td>0.0</td>\n",
       "      <td>0.0</td>\n",
       "      <td>0.0</td>\n",
       "      <td>1.0</td>\n",
       "    </tr>\n",
       "    <tr>\n",
       "      <th>2</th>\n",
       "      <td>5.175</td>\n",
       "      <td>0.037368</td>\n",
       "      <td>86.9224</td>\n",
       "      <td>1987</td>\n",
       "      <td>0.0</td>\n",
       "      <td>0.0</td>\n",
       "      <td>0.0</td>\n",
       "      <td>0.0</td>\n",
       "      <td>0.0</td>\n",
       "      <td>0.0</td>\n",
       "      <td>...</td>\n",
       "      <td>0.0</td>\n",
       "      <td>0.0</td>\n",
       "      <td>1.0</td>\n",
       "      <td>0.0</td>\n",
       "      <td>1.0</td>\n",
       "      <td>0.0</td>\n",
       "      <td>0.0</td>\n",
       "      <td>0.0</td>\n",
       "      <td>1.0</td>\n",
       "      <td>0.0</td>\n",
       "    </tr>\n",
       "    <tr>\n",
       "      <th>3</th>\n",
       "      <td>21.250</td>\n",
       "      <td>0.019407</td>\n",
       "      <td>119.3756</td>\n",
       "      <td>1987</td>\n",
       "      <td>0.0</td>\n",
       "      <td>0.0</td>\n",
       "      <td>0.0</td>\n",
       "      <td>0.0</td>\n",
       "      <td>0.0</td>\n",
       "      <td>0.0</td>\n",
       "      <td>...</td>\n",
       "      <td>0.0</td>\n",
       "      <td>0.0</td>\n",
       "      <td>1.0</td>\n",
       "      <td>0.0</td>\n",
       "      <td>1.0</td>\n",
       "      <td>0.0</td>\n",
       "      <td>0.0</td>\n",
       "      <td>0.0</td>\n",
       "      <td>1.0</td>\n",
       "      <td>0.0</td>\n",
       "    </tr>\n",
       "    <tr>\n",
       "      <th>4</th>\n",
       "      <td>16.700</td>\n",
       "      <td>0.102056</td>\n",
       "      <td>184.0292</td>\n",
       "      <td>1997</td>\n",
       "      <td>0.0</td>\n",
       "      <td>0.0</td>\n",
       "      <td>0.0</td>\n",
       "      <td>0.0</td>\n",
       "      <td>0.0</td>\n",
       "      <td>0.0</td>\n",
       "      <td>...</td>\n",
       "      <td>1.0</td>\n",
       "      <td>0.0</td>\n",
       "      <td>0.0</td>\n",
       "      <td>0.0</td>\n",
       "      <td>1.0</td>\n",
       "      <td>0.0</td>\n",
       "      <td>0.0</td>\n",
       "      <td>0.0</td>\n",
       "      <td>1.0</td>\n",
       "      <td>0.0</td>\n",
       "    </tr>\n",
       "  </tbody>\n",
       "</table>\n",
       "<p>5 rows × 1592 columns</p>\n",
       "</div>"
      ],
      "text/plain": [
       "   Item_Weight  Item_Visibility  Item_MRP  Outlet_Establishment_Year  \\\n",
       "0       13.650         0.012752   55.5588                       1997   \n",
       "1       16.750         0.032653  190.8162                       2002   \n",
       "2        5.175         0.037368   86.9224                       1987   \n",
       "3       21.250         0.019407  119.3756                       1987   \n",
       "4       16.700         0.102056  184.0292                       1997   \n",
       "\n",
       "   Item_Identifier_DRA12  Item_Identifier_DRA24  Item_Identifier_DRA59  \\\n",
       "0                    0.0                    0.0                    0.0   \n",
       "1                    0.0                    0.0                    0.0   \n",
       "2                    0.0                    0.0                    0.0   \n",
       "3                    0.0                    0.0                    0.0   \n",
       "4                    0.0                    0.0                    0.0   \n",
       "\n",
       "   Item_Identifier_DRB01  Item_Identifier_DRB13  Item_Identifier_DRB24  ...  \\\n",
       "0                    0.0                    0.0                    0.0  ...   \n",
       "1                    0.0                    0.0                    0.0  ...   \n",
       "2                    0.0                    0.0                    0.0  ...   \n",
       "3                    0.0                    0.0                    0.0  ...   \n",
       "4                    0.0                    0.0                    0.0  ...   \n",
       "\n",
       "   Outlet_Location_Type_Tier 1  Outlet_Location_Type_Tier 2  \\\n",
       "0                          1.0                          0.0   \n",
       "1                          0.0                          1.0   \n",
       "2                          0.0                          0.0   \n",
       "3                          0.0                          0.0   \n",
       "4                          1.0                          0.0   \n",
       "\n",
       "   Outlet_Location_Type_Tier 3  Outlet_Type_Grocery Store  \\\n",
       "0                          0.0                        0.0   \n",
       "1                          0.0                        0.0   \n",
       "2                          1.0                        0.0   \n",
       "3                          1.0                        0.0   \n",
       "4                          0.0                        0.0   \n",
       "\n",
       "   Outlet_Type_Supermarket Type1  Outlet_Type_Supermarket Type2  \\\n",
       "0                            1.0                            0.0   \n",
       "1                            1.0                            0.0   \n",
       "2                            1.0                            0.0   \n",
       "3                            1.0                            0.0   \n",
       "4                            1.0                            0.0   \n",
       "\n",
       "   Outlet_Type_Supermarket Type3  item_type_Drink  item_type_Food  \\\n",
       "0                            0.0              0.0             1.0   \n",
       "1                            0.0              0.0             0.0   \n",
       "2                            0.0              0.0             1.0   \n",
       "3                            0.0              0.0             1.0   \n",
       "4                            0.0              0.0             1.0   \n",
       "\n",
       "   item_type_Non Consumable  \n",
       "0                       0.0  \n",
       "1                       1.0  \n",
       "2                       0.0  \n",
       "3                       0.0  \n",
       "4                       0.0  \n",
       "\n",
       "[5 rows x 1592 columns]"
      ]
     },
     "execution_count": 137,
     "metadata": {},
     "output_type": "execute_result"
    }
   ],
   "source": [
    "num_features_test = x_test.select_dtypes(exclude = ['object']).reset_index(drop= True)\n",
    "cat_features_test = x_test.select_dtypes(include = ['object'])\n",
    "x_test_cat_ohe = pd.DataFrame(OHE.transform(cat_features_test).toarray(), columns=OHE_features)\n",
    "x_test_final = pd.concat([num_features_test , x_test_cat_ohe], axis = 1)\n",
    "x_test_final = x_test_final[final_columns]\n",
    "\n",
    "x_test_final.head()"
   ]
  },
  {
   "cell_type": "markdown",
   "id": "d4ce1068-89ec-482d-a12e-2ef411f76b28",
   "metadata": {},
   "source": [
    "# modelling"
   ]
  },
  {
   "cell_type": "code",
   "execution_count": 141,
   "id": "cf486e0b-3ecc-4ce9-a1a8-87d729de3cdd",
   "metadata": {},
   "outputs": [
    {
     "data": {
      "text/plain": [
       "<Axes: xlabel='Item_Outlet_Sales', ylabel='Count'>"
      ]
     },
     "execution_count": 141,
     "metadata": {},
     "output_type": "execute_result"
    },
    {
     "data": {
      "image/png": "[encoded data removed]",
      "text/plain": [
       "<Figure size 640x480 with 1 Axes>"
      ]
     },
     "metadata": {},
     "output_type": "display_data"
    }
   ],
   "source": [
    "sns.histplot(y_train)"
   ]
  },
  {
   "cell_type": "code",
   "execution_count": 142,
   "id": "ff938948-a0f4-487e-a815-ee23048d3dde",
   "metadata": {},
   "outputs": [],
   "source": [
    "from sklearn.ensemble import RandomForestRegressor, GradientBoostingRegressor, HistGradientBoostingRegressor\n",
    "import xgboost as xgb \n",
    "import lightgbm as lgb\n",
    "from lightgbm import LGBMRegressor\n",
    "from sklearn.model_selection import cross_validate\n",
    "import numpy as np"
   ]
  },
  {
   "cell_type": "code",
   "execution_count": null,
   "id": "86fd9be6-4c43-41ea-95cd-c72dde6a415b",
   "metadata": {},
   "outputs": [],
   "source": []
  },
  {
   "cell_type": "code",
   "execution_count": 149,
   "id": "76c86a72-43e2-4d67-95f9-cad4c00ba90e",
   "metadata": {},
   "outputs": [],
   "source": [
    "def train_eval_model(model, x_train, y_train, cv=5):\n",
    "    cv_results = cross_validate( model, x_train, y_train, cv=cv, scoring = ('r2', 'neg_root_mean_squared_error'),)\n",
    "    print('model: ', model)\n",
    "    r2_scores = cv_results['test_r2']\n",
    "    print('R2 CV results', r2_scores)\n",
    "    print('R2 CV results mean/ stdev', np.mean(r2_scores) ,'/' , np.std(r2_scores))\n",
    "\n",
    "    rsme_scores = cv_results['test_neg_root_mean_squared_error']\n",
    "    rsme_scores = [-1*score for score in rsme_scores]\n",
    "    print('RSME CV results: ', rsme_scores)\n",
    "    print('RSME CV results mean/stdev:', np.mean(rsme_scores), '/' , np.std(rsme_scores))"
   ]
  },
  {
   "cell_type": "code",
   "execution_count": 151,
   "id": "b16edb1b-6b7f-4747-8b2e-826075e16c8c",
   "metadata": {},
   "outputs": [
    {
     "name": "stdout",
     "output_type": "stream",
     "text": [
      "model:  RandomForestRegressor(random_state=43)\n",
      "R2 CV results [0.54997906 0.54037775 0.5040583  0.54747312 0.54485162]\n",
      "R2 CV results mean/ stdev 0.5373479683972647 / 0.016945498434796757\n",
      "RSME CV results:  [1121.8248534657375, 1180.0655438922036, 1207.2179493031133, 1118.6562293607055, 1161.1078323359789]\n",
      "RSME CV results mean/stdev: 1157.7744816715478 / 33.98609305289909\n"
     ]
    }
   ],
   "source": [
    "rf = RandomForestRegressor(random_state=SEED)\n",
    "train_eval_model(model=rf, x_train= x_train_final, y_train=y_train)"
   ]
  },
  {
   "cell_type": "code",
   "execution_count": 155,
   "id": "61e37b8e-cf54-49d6-95dd-f53538a32715",
   "metadata": {},
   "outputs": [
    {
     "name": "stdout",
     "output_type": "stream",
     "text": [
      "model:  GradientBoostingRegressor(random_state=43)\n",
      "R2 CV results [0.58954216 0.58286765 0.55585196 0.59871165 0.58642101]\n",
      "R2 CV results mean/ stdev 0.5826788861128641 / 0.014407476967803711\n",
      "RSME CV results:  [1071.3786117986213, 1124.1973206073278, 1142.4422143145139, 1053.4228312723485, 1106.8156490516783]\n",
      "RSME CV results mean/stdev: 1099.6513254088982 / 32.9281447758428\n"
     ]
    }
   ],
   "source": [
    "gb = GradientBoostingRegressor(random_state=SEED)\n",
    "train_eval_model(model=gb, x_train= x_train_final, y_train=y_train)"
   ]
  },
  {
   "cell_type": "code",
   "execution_count": 157,
   "id": "7011424a-474b-4e30-9c07-2e58539929b4",
   "metadata": {},
   "outputs": [
    {
     "name": "stdout",
     "output_type": "stream",
     "text": [
      "model:  HistGradientBoostingRegressor(random_state=43)\n",
      "R2 CV results [0.56373354 0.56070901 0.53435103 0.5559407  0.56043158]\n",
      "R2 CV results mean/ stdev 0.5550331728649789 / 0.010636061930022376\n",
      "RSME CV results:  [1104.5480277451666, 1153.6704205329377, 1169.767883793788, 1108.1407781783694, 1141.0621402875718]\n",
      "RSME CV results mean/stdev: 1135.4378501075666 / 25.46339230633074\n"
     ]
    }
   ],
   "source": [
    "hist = HistGradientBoostingRegressor(random_state=SEED)\n",
    "train_eval_model(model=hist, x_train= x_train_final, y_train=y_train)"
   ]
  },
  {
   "cell_type": "code",
   "execution_count": 169,
   "id": "cd3f9f83-eb40-4d8e-86bf-52c0ae366fec",
   "metadata": {},
   "outputs": [
    {
     "name": "stdout",
     "output_type": "stream",
     "text": [
      "model:  XGBRegressor(base_score=None, booster=None, callbacks=None,\n",
      "             colsample_bylevel=None, colsample_bynode=None,\n",
      "             colsample_bytree=None, device=None, early_stopping_rounds=None,\n",
      "             enable_categorical=False, eval_metric=None, feature_types=None,\n",
      "             gamma=None, grow_policy=None, importance_type=None,\n",
      "             interaction_constraints=None, learning_rate=None, max_bin=None,\n",
      "             max_cat_threshold=None, max_cat_to_onehot=None,\n",
      "             max_delta_step=None, max_depth=None, max_leaves=None,\n",
      "             min_child_weight=None, missing=nan, monotone_constraints=None,\n",
      "             multi_strategy=None, n_estimators=None, n_jobs=None,\n",
      "             num_parallel_tree=None, random_state=43, ...)\n",
      "R2 CV results [0.56668132 0.55397058 0.52995965 0.56071005 0.55151296]\n",
      "R2 CV results mean/ stdev 0.5525669116405865 / 0.012487565055018865\n",
      "RSME CV results:  [1100.8100907471141, 1162.4850096933349, 1175.2707815141002, 1102.1738082180639, 1152.5797985509764]\n",
      "RSME CV results mean/stdev: 1138.6638977447178 / 31.194867997471306\n"
     ]
    }
   ],
   "source": [
    "xgr = xgb.XGBRegressor(objective= 'reg:squarederror' ,random_state=SEED)\n",
    "train_eval_model(model=xgr, x_train= x_train_final, y_train=y_train)"
   ]
  },
  {
   "cell_type": "code",
   "execution_count": 161,
   "id": "dd21d891-5e70-4454-9e51-de070072757a",
   "metadata": {},
   "outputs": [
    {
     "name": "stdout",
     "output_type": "stream",
     "text": [
      "[LightGBM] [Warning] Found whitespace in feature_names, replace with underlines\n",
      "[LightGBM] [Info] Auto-choosing row-wise multi-threading, the overhead of testing was 0.000558 seconds.\n",
      "You can set `force_row_wise=true` to remove the overhead.\n",
      "And if memory is not enough, you can set `force_col_wise=true`.\n",
      "[LightGBM] [Info] Total Bins 842\n",
      "[LightGBM] [Info] Number of data points in the train set: 4772, number of used features: 47\n",
      "[LightGBM] [Info] Start training from score 2195.022194\n",
      "[LightGBM] [Warning] Found whitespace in feature_names, replace with underlines\n",
      "[LightGBM] [Info] Auto-choosing row-wise multi-threading, the overhead of testing was 0.000180 seconds.\n",
      "You can set `force_row_wise=true` to remove the overhead.\n",
      "And if memory is not enough, you can set `force_col_wise=true`.\n",
      "[LightGBM] [Info] Total Bins 839\n",
      "[LightGBM] [Info] Number of data points in the train set: 4773, number of used features: 47\n",
      "[LightGBM] [Info] Start training from score 2176.561579\n",
      "[LightGBM] [Warning] Found whitespace in feature_names, replace with underlines\n",
      "[LightGBM] [Info] Auto-choosing row-wise multi-threading, the overhead of testing was 0.000380 seconds.\n",
      "You can set `force_row_wise=true` to remove the overhead.\n",
      "And if memory is not enough, you can set `force_col_wise=true`.\n",
      "[LightGBM] [Info] Total Bins 839\n",
      "[LightGBM] [Info] Number of data points in the train set: 4773, number of used features: 47\n",
      "[LightGBM] [Info] Start training from score 2179.855008\n",
      "[LightGBM] [Warning] Found whitespace in feature_names, replace with underlines\n",
      "[LightGBM] [Info] Auto-choosing row-wise multi-threading, the overhead of testing was 0.000454 seconds.\n",
      "You can set `force_row_wise=true` to remove the overhead.\n",
      "And if memory is not enough, you can set `force_col_wise=true`.\n",
      "[LightGBM] [Info] Total Bins 844\n",
      "[LightGBM] [Info] Number of data points in the train set: 4773, number of used features: 47\n",
      "[LightGBM] [Info] Start training from score 2186.004277\n",
      "[LightGBM] [Warning] Found whitespace in feature_names, replace with underlines\n",
      "[LightGBM] [Info] Auto-choosing row-wise multi-threading, the overhead of testing was 0.000505 seconds.\n",
      "You can set `force_row_wise=true` to remove the overhead.\n",
      "And if memory is not enough, you can set `force_col_wise=true`.\n",
      "[LightGBM] [Info] Total Bins 837\n",
      "[LightGBM] [Info] Number of data points in the train set: 4773, number of used features: 47\n",
      "[LightGBM] [Info] Start training from score 2183.792895\n",
      "model:  LGBMRegressor(random_state=43)\n",
      "R2 CV results [0.56144009 0.56059916 0.52293723 0.5575945  0.55612151]\n",
      "R2 CV results mean/ stdev 0.551738497221557 / 0.014530303299334616\n",
      "RSME CV results:  [1107.4475347365258, 1153.8146491661514, 1184.0175269967744, 1106.075347167302, 1146.6426875593647]\n",
      "RSME CV results mean/stdev: 1139.5995491252238 / 29.604917741956964\n"
     ]
    }
   ],
   "source": [
    "lgbr = LGBMRegressor(random_state=SEED)\n",
    "train_eval_model(model=lgbr, x_train= x_train_final, y_train=y_train)"
   ]
  },
  {
   "cell_type": "code",
   "execution_count": null,
   "id": "2c7a93c1-84be-4df6-8b9d-74fd8c02c109",
   "metadata": {},
   "outputs": [],
   "source": []
  }
 ],
 "metadata": {
  "kernelspec": {
   "display_name": "Python 3 (ipykernel)",
   "language": "python",
   "name": "python3"
  },
  "language_info": {
   "codemirror_mode": {
    "name": "ipython",
    "version": 3
   },
   "file_extension": ".py",
   "mimetype": "text/x-python",
   "name": "python",
   "nbconvert_exporter": "python",
   "pygments_lexer": "ipython3",
   "version": "3.11.7"
  }
 },
 "nbformat": 4,
 "nbformat_minor": 5
}
